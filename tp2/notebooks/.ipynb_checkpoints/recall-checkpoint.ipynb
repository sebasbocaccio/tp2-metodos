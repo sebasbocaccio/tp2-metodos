{
 "cells": [
  {
   "cell_type": "markdown",
   "id": "ab11f492",
   "metadata": {},
   "source": [
    "# Recall"
   ]
  },
  {
   "cell_type": "markdown",
   "id": "e2dd3f0c",
   "metadata": {},
   "source": [
    "# Knn solo"
   ]
  },
  {
   "cell_type": "code",
   "execution_count": 3,
   "id": "77f330c3",
   "metadata": {},
   "outputs": [],
   "source": [
    "import csv\n",
    "import numpy as np \n",
    "\n",
    "import pandas as pd\n",
    "with open('../resultados/knn_solo_recall.csv', newline='') as csvfile:\n",
    "    spamreader = csv.reader(csvfile, delimiter=(','), quotechar='|')\n",
    "    numbers = next(spamreader)\n",
    "    numbers.append('k')\n",
    "    data = []\n",
    "    k = 1 \n",
    "    for row in spamreader:\n",
    "        data_row = [float(i) for i in row]\n",
    "        data_row.append(k)\n",
    "        data.append(data_row)\n",
    "        k+= 500\n",
    "df = pd.DataFrame(data, columns =numbers)\n",
    "df =df.set_index('k')\n"
   ]
  },
  {
   "cell_type": "code",
   "execution_count": 4,
   "id": "fe7baeb3",
   "metadata": {},
   "outputs": [
    {
     "ename": "KeyError",
     "evalue": "'k'",
     "output_type": "error",
     "traceback": [
      "\u001b[0;31m---------------------------------------------------------------------------\u001b[0m",
      "\u001b[0;31mKeyError\u001b[0m                                  Traceback (most recent call last)",
      "\u001b[0;32m~/anaconda3/envs/tp2/lib/python3.6/site-packages/pandas/core/indexes/base.py\u001b[0m in \u001b[0;36mget_loc\u001b[0;34m(self, key, method, tolerance)\u001b[0m\n\u001b[1;32m   2656\u001b[0m             \u001b[0;32mtry\u001b[0m\u001b[0;34m:\u001b[0m\u001b[0;34m\u001b[0m\u001b[0m\n\u001b[0;32m-> 2657\u001b[0;31m                 \u001b[0;32mreturn\u001b[0m \u001b[0mself\u001b[0m\u001b[0;34m.\u001b[0m\u001b[0m_engine\u001b[0m\u001b[0;34m.\u001b[0m\u001b[0mget_loc\u001b[0m\u001b[0;34m(\u001b[0m\u001b[0mkey\u001b[0m\u001b[0;34m)\u001b[0m\u001b[0;34m\u001b[0m\u001b[0m\n\u001b[0m\u001b[1;32m   2658\u001b[0m             \u001b[0;32mexcept\u001b[0m \u001b[0mKeyError\u001b[0m\u001b[0;34m:\u001b[0m\u001b[0;34m\u001b[0m\u001b[0m\n",
      "\u001b[0;32mpandas/_libs/index.pyx\u001b[0m in \u001b[0;36mpandas._libs.index.IndexEngine.get_loc\u001b[0;34m()\u001b[0m\n",
      "\u001b[0;32mpandas/_libs/index.pyx\u001b[0m in \u001b[0;36mpandas._libs.index.IndexEngine.get_loc\u001b[0;34m()\u001b[0m\n",
      "\u001b[0;32mpandas/_libs/hashtable_class_helper.pxi\u001b[0m in \u001b[0;36mpandas._libs.hashtable.PyObjectHashTable.get_item\u001b[0;34m()\u001b[0m\n",
      "\u001b[0;32mpandas/_libs/hashtable_class_helper.pxi\u001b[0m in \u001b[0;36mpandas._libs.hashtable.PyObjectHashTable.get_item\u001b[0;34m()\u001b[0m\n",
      "\u001b[0;31mKeyError\u001b[0m: 'k'",
      "\nDuring handling of the above exception, another exception occurred:\n",
      "\u001b[0;31mKeyError\u001b[0m                                  Traceback (most recent call last)",
      "\u001b[0;32m<ipython-input-4-7a3fc83fe0b8>\u001b[0m in \u001b[0;36m<module>\u001b[0;34m\u001b[0m\n\u001b[1;32m      8\u001b[0m \u001b[0;34m\u001b[0m\u001b[0m\n\u001b[1;32m      9\u001b[0m \u001b[0mdf_alpha1\u001b[0m \u001b[0;34m=\u001b[0m \u001b[0mdf\u001b[0m\u001b[0;34m.\u001b[0m\u001b[0mloc\u001b[0m\u001b[0;34m[\u001b[0m\u001b[0mdf\u001b[0m\u001b[0;34m[\u001b[0m\u001b[0;34m'alpha'\u001b[0m\u001b[0;34m]\u001b[0m \u001b[0;34m==\u001b[0m \u001b[0;36m1\u001b[0m\u001b[0;34m]\u001b[0m\u001b[0;34m\u001b[0m\u001b[0m\n\u001b[0;32m---> 10\u001b[0;31m \u001b[0mdfm\u001b[0m \u001b[0;34m=\u001b[0m \u001b[0mdf_alpha1\u001b[0m\u001b[0;34m.\u001b[0m\u001b[0mmelt\u001b[0m\u001b[0;34m(\u001b[0m\u001b[0;34m'k'\u001b[0m\u001b[0;34m,\u001b[0m \u001b[0mvar_name\u001b[0m\u001b[0;34m=\u001b[0m\u001b[0;34m'dígito'\u001b[0m\u001b[0;34m,\u001b[0m \u001b[0mvalue_name\u001b[0m\u001b[0;34m=\u001b[0m\u001b[0;34m'recall'\u001b[0m\u001b[0;34m)\u001b[0m\u001b[0;34m\u001b[0m\u001b[0m\n\u001b[0m\u001b[1;32m     11\u001b[0m \u001b[0mdfm\u001b[0m \u001b[0;34m=\u001b[0m \u001b[0mdfm\u001b[0m\u001b[0;34m[\u001b[0m\u001b[0mdfm\u001b[0m\u001b[0;34m[\u001b[0m\u001b[0;34m'dígito'\u001b[0m\u001b[0;34m]\u001b[0m \u001b[0;34m!=\u001b[0m \u001b[0;34m'alpha'\u001b[0m\u001b[0;34m]\u001b[0m\u001b[0;34m\u001b[0m\u001b[0m\n\u001b[1;32m     12\u001b[0m \u001b[0mdisplay\u001b[0m\u001b[0;34m(\u001b[0m\u001b[0mdfm\u001b[0m\u001b[0;34m)\u001b[0m\u001b[0;34m\u001b[0m\u001b[0m\n",
      "\u001b[0;32m~/anaconda3/envs/tp2/lib/python3.6/site-packages/pandas/core/frame.py\u001b[0m in \u001b[0;36mmelt\u001b[0;34m(self, id_vars, value_vars, var_name, value_name, col_level)\u001b[0m\n\u001b[1;32m   6092\u001b[0m         return melt(self, id_vars=id_vars, value_vars=value_vars,\n\u001b[1;32m   6093\u001b[0m                     \u001b[0mvar_name\u001b[0m\u001b[0;34m=\u001b[0m\u001b[0mvar_name\u001b[0m\u001b[0;34m,\u001b[0m \u001b[0mvalue_name\u001b[0m\u001b[0;34m=\u001b[0m\u001b[0mvalue_name\u001b[0m\u001b[0;34m,\u001b[0m\u001b[0;34m\u001b[0m\u001b[0m\n\u001b[0;32m-> 6094\u001b[0;31m                     col_level=col_level)\n\u001b[0m\u001b[1;32m   6095\u001b[0m \u001b[0;34m\u001b[0m\u001b[0m\n\u001b[1;32m   6096\u001b[0m     \u001b[0;31m# ----------------------------------------------------------------------\u001b[0m\u001b[0;34m\u001b[0m\u001b[0;34m\u001b[0m\u001b[0m\n",
      "\u001b[0;32m~/anaconda3/envs/tp2/lib/python3.6/site-packages/pandas/core/reshape/melt.py\u001b[0m in \u001b[0;36mmelt\u001b[0;34m(frame, id_vars, value_vars, var_name, value_name, col_level)\u001b[0m\n\u001b[1;32m     91\u001b[0m     \u001b[0mmdata\u001b[0m \u001b[0;34m=\u001b[0m \u001b[0;34m{\u001b[0m\u001b[0;34m}\u001b[0m\u001b[0;34m\u001b[0m\u001b[0m\n\u001b[1;32m     92\u001b[0m     \u001b[0;32mfor\u001b[0m \u001b[0mcol\u001b[0m \u001b[0;32min\u001b[0m \u001b[0mid_vars\u001b[0m\u001b[0;34m:\u001b[0m\u001b[0;34m\u001b[0m\u001b[0m\n\u001b[0;32m---> 93\u001b[0;31m         \u001b[0mid_data\u001b[0m \u001b[0;34m=\u001b[0m \u001b[0mframe\u001b[0m\u001b[0;34m.\u001b[0m\u001b[0mpop\u001b[0m\u001b[0;34m(\u001b[0m\u001b[0mcol\u001b[0m\u001b[0;34m)\u001b[0m\u001b[0;34m\u001b[0m\u001b[0m\n\u001b[0m\u001b[1;32m     94\u001b[0m         \u001b[0;32mif\u001b[0m \u001b[0mis_extension_type\u001b[0m\u001b[0;34m(\u001b[0m\u001b[0mid_data\u001b[0m\u001b[0;34m)\u001b[0m\u001b[0;34m:\u001b[0m\u001b[0;34m\u001b[0m\u001b[0m\n\u001b[1;32m     95\u001b[0m             \u001b[0mid_data\u001b[0m \u001b[0;34m=\u001b[0m \u001b[0mconcat\u001b[0m\u001b[0;34m(\u001b[0m\u001b[0;34m[\u001b[0m\u001b[0mid_data\u001b[0m\u001b[0;34m]\u001b[0m \u001b[0;34m*\u001b[0m \u001b[0mK\u001b[0m\u001b[0;34m,\u001b[0m \u001b[0mignore_index\u001b[0m\u001b[0;34m=\u001b[0m\u001b[0;32mTrue\u001b[0m\u001b[0;34m)\u001b[0m\u001b[0;34m\u001b[0m\u001b[0m\n",
      "\u001b[0;32m~/anaconda3/envs/tp2/lib/python3.6/site-packages/pandas/core/generic.py\u001b[0m in \u001b[0;36mpop\u001b[0;34m(self, item)\u001b[0m\n\u001b[1;32m    807\u001b[0m         \u001b[0;36m3\u001b[0m  \u001b[0mmonkey\u001b[0m        \u001b[0mNaN\u001b[0m\u001b[0;34m\u001b[0m\u001b[0m\n\u001b[1;32m    808\u001b[0m         \"\"\"\n\u001b[0;32m--> 809\u001b[0;31m         \u001b[0mresult\u001b[0m \u001b[0;34m=\u001b[0m \u001b[0mself\u001b[0m\u001b[0;34m[\u001b[0m\u001b[0mitem\u001b[0m\u001b[0;34m]\u001b[0m\u001b[0;34m\u001b[0m\u001b[0m\n\u001b[0m\u001b[1;32m    810\u001b[0m         \u001b[0;32mdel\u001b[0m \u001b[0mself\u001b[0m\u001b[0;34m[\u001b[0m\u001b[0mitem\u001b[0m\u001b[0;34m]\u001b[0m\u001b[0;34m\u001b[0m\u001b[0m\n\u001b[1;32m    811\u001b[0m         \u001b[0;32mtry\u001b[0m\u001b[0;34m:\u001b[0m\u001b[0;34m\u001b[0m\u001b[0m\n",
      "\u001b[0;32m~/anaconda3/envs/tp2/lib/python3.6/site-packages/pandas/core/frame.py\u001b[0m in \u001b[0;36m__getitem__\u001b[0;34m(self, key)\u001b[0m\n\u001b[1;32m   2925\u001b[0m             \u001b[0;32mif\u001b[0m \u001b[0mself\u001b[0m\u001b[0;34m.\u001b[0m\u001b[0mcolumns\u001b[0m\u001b[0;34m.\u001b[0m\u001b[0mnlevels\u001b[0m \u001b[0;34m>\u001b[0m \u001b[0;36m1\u001b[0m\u001b[0;34m:\u001b[0m\u001b[0;34m\u001b[0m\u001b[0m\n\u001b[1;32m   2926\u001b[0m                 \u001b[0;32mreturn\u001b[0m \u001b[0mself\u001b[0m\u001b[0;34m.\u001b[0m\u001b[0m_getitem_multilevel\u001b[0m\u001b[0;34m(\u001b[0m\u001b[0mkey\u001b[0m\u001b[0;34m)\u001b[0m\u001b[0;34m\u001b[0m\u001b[0m\n\u001b[0;32m-> 2927\u001b[0;31m             \u001b[0mindexer\u001b[0m \u001b[0;34m=\u001b[0m \u001b[0mself\u001b[0m\u001b[0;34m.\u001b[0m\u001b[0mcolumns\u001b[0m\u001b[0;34m.\u001b[0m\u001b[0mget_loc\u001b[0m\u001b[0;34m(\u001b[0m\u001b[0mkey\u001b[0m\u001b[0;34m)\u001b[0m\u001b[0;34m\u001b[0m\u001b[0m\n\u001b[0m\u001b[1;32m   2928\u001b[0m             \u001b[0;32mif\u001b[0m \u001b[0mis_integer\u001b[0m\u001b[0;34m(\u001b[0m\u001b[0mindexer\u001b[0m\u001b[0;34m)\u001b[0m\u001b[0;34m:\u001b[0m\u001b[0;34m\u001b[0m\u001b[0m\n\u001b[1;32m   2929\u001b[0m                 \u001b[0mindexer\u001b[0m \u001b[0;34m=\u001b[0m \u001b[0;34m[\u001b[0m\u001b[0mindexer\u001b[0m\u001b[0;34m]\u001b[0m\u001b[0;34m\u001b[0m\u001b[0m\n",
      "\u001b[0;32m~/anaconda3/envs/tp2/lib/python3.6/site-packages/pandas/core/indexes/base.py\u001b[0m in \u001b[0;36mget_loc\u001b[0;34m(self, key, method, tolerance)\u001b[0m\n\u001b[1;32m   2657\u001b[0m                 \u001b[0;32mreturn\u001b[0m \u001b[0mself\u001b[0m\u001b[0;34m.\u001b[0m\u001b[0m_engine\u001b[0m\u001b[0;34m.\u001b[0m\u001b[0mget_loc\u001b[0m\u001b[0;34m(\u001b[0m\u001b[0mkey\u001b[0m\u001b[0;34m)\u001b[0m\u001b[0;34m\u001b[0m\u001b[0m\n\u001b[1;32m   2658\u001b[0m             \u001b[0;32mexcept\u001b[0m \u001b[0mKeyError\u001b[0m\u001b[0;34m:\u001b[0m\u001b[0;34m\u001b[0m\u001b[0m\n\u001b[0;32m-> 2659\u001b[0;31m                 \u001b[0;32mreturn\u001b[0m \u001b[0mself\u001b[0m\u001b[0;34m.\u001b[0m\u001b[0m_engine\u001b[0m\u001b[0;34m.\u001b[0m\u001b[0mget_loc\u001b[0m\u001b[0;34m(\u001b[0m\u001b[0mself\u001b[0m\u001b[0;34m.\u001b[0m\u001b[0m_maybe_cast_indexer\u001b[0m\u001b[0;34m(\u001b[0m\u001b[0mkey\u001b[0m\u001b[0;34m)\u001b[0m\u001b[0;34m)\u001b[0m\u001b[0;34m\u001b[0m\u001b[0m\n\u001b[0m\u001b[1;32m   2660\u001b[0m         \u001b[0mindexer\u001b[0m \u001b[0;34m=\u001b[0m \u001b[0mself\u001b[0m\u001b[0;34m.\u001b[0m\u001b[0mget_indexer\u001b[0m\u001b[0;34m(\u001b[0m\u001b[0;34m[\u001b[0m\u001b[0mkey\u001b[0m\u001b[0;34m]\u001b[0m\u001b[0;34m,\u001b[0m \u001b[0mmethod\u001b[0m\u001b[0;34m=\u001b[0m\u001b[0mmethod\u001b[0m\u001b[0;34m,\u001b[0m \u001b[0mtolerance\u001b[0m\u001b[0;34m=\u001b[0m\u001b[0mtolerance\u001b[0m\u001b[0;34m)\u001b[0m\u001b[0;34m\u001b[0m\u001b[0m\n\u001b[1;32m   2661\u001b[0m         \u001b[0;32mif\u001b[0m \u001b[0mindexer\u001b[0m\u001b[0;34m.\u001b[0m\u001b[0mndim\u001b[0m \u001b[0;34m>\u001b[0m \u001b[0;36m1\u001b[0m \u001b[0;32mor\u001b[0m \u001b[0mindexer\u001b[0m\u001b[0;34m.\u001b[0m\u001b[0msize\u001b[0m \u001b[0;34m>\u001b[0m \u001b[0;36m1\u001b[0m\u001b[0;34m:\u001b[0m\u001b[0;34m\u001b[0m\u001b[0m\n",
      "\u001b[0;32mpandas/_libs/index.pyx\u001b[0m in \u001b[0;36mpandas._libs.index.IndexEngine.get_loc\u001b[0;34m()\u001b[0m\n",
      "\u001b[0;32mpandas/_libs/index.pyx\u001b[0m in \u001b[0;36mpandas._libs.index.IndexEngine.get_loc\u001b[0;34m()\u001b[0m\n",
      "\u001b[0;32mpandas/_libs/hashtable_class_helper.pxi\u001b[0m in \u001b[0;36mpandas._libs.hashtable.PyObjectHashTable.get_item\u001b[0;34m()\u001b[0m\n",
      "\u001b[0;32mpandas/_libs/hashtable_class_helper.pxi\u001b[0m in \u001b[0;36mpandas._libs.hashtable.PyObjectHashTable.get_item\u001b[0;34m()\u001b[0m\n",
      "\u001b[0;31mKeyError\u001b[0m: 'k'"
     ]
    }
   ],
   "source": [
    "\n",
    "\n",
    "import seaborn as sns\n",
    "import matplotlib.pyplot as plt\n",
    " \n",
    "# image = sns.heatmap(df_1, annot=False,cmap=\"RdBu\")\n",
    "# image.set(xlabel='Digito', ylabel='K',title= 'Precision de cada digito segun el k para alpha = 1')\n",
    "# fig = image.get_figure()\n",
    "# fig.savefig('../resultados/knn_pca_presicion_1', dpi =500)\n",
    "\n",
    "df_alpha1 = df.loc[df['alpha'] == 1]\n",
    "dfm = df_alpha1.melt('k', var_name='dígito', value_name='recall')\n",
    "dfm = dfm[dfm['dígito'] != 'alpha']\n",
    "display(dfm)\n",
    "plt.figure(figsize=(9,5)) \n",
    "fig = sns.pointplot(x=\"k\", y=\"recall\", hue='dígito', data=dfm, kind='point')\n",
    "fig.set_xticklabels(fig.get_xticklabels(), rotation=40, ha=\"right\")\n",
    "plt.tight_layout()\n",
    "fig.savefig('../resultados/knn_solo_recall', dpi =500)"
   ]
  },
  {
   "cell_type": "markdown",
   "id": "993cd841",
   "metadata": {},
   "source": [
    "# Knn + pca"
   ]
  },
  {
   "cell_type": "code",
   "execution_count": 2,
   "id": "3003ad8a",
   "metadata": {},
   "outputs": [
    {
     "name": "stdout",
     "output_type": "stream",
     "text": [
      "     alpha        k         0         1         2         3         4  \\\n",
      "0      1.0      1.0  0.589202  0.793684  0.114856  0.134921  0.136868   \n",
      "1      1.0   1001.0  0.826291  0.901053  0.059925  0.328798  0.001233   \n",
      "2      1.0   2001.0  0.820423  0.911579  0.014981  0.346939  0.000000   \n",
      "3      1.0   3001.0  0.820423  0.926316  0.000000  0.336735  0.000000   \n",
      "4      1.0   4001.0  0.814554  0.932632  0.000000  0.335601  0.000000   \n",
      "5      1.0   5001.0  0.815728  0.938947  0.000000  0.329932  0.000000   \n",
      "6      1.0   6001.0  0.820423  0.944211  0.000000  0.348073  0.000000   \n",
      "7      1.0   7001.0  0.820423  0.947368  0.000000  0.348073  0.000000   \n",
      "8      1.0   8001.0  0.820423  0.950526  0.000000  0.366213  0.000000   \n",
      "9      1.0   9001.0  0.820423  0.952632  0.000000  0.375283  0.000000   \n",
      "10     1.0  10001.0  0.816901  0.956842  0.000000  0.371882  0.000000   \n",
      "11     1.0  11001.0  0.814554  0.960000  0.000000  0.387755  0.000000   \n",
      "12     1.0  12001.0  0.814554  0.963158  0.000000  0.388889  0.000000   \n",
      "13     1.0  13001.0  0.814554  0.967368  0.000000  0.395692  0.000000   \n",
      "14     1.0  14001.0  0.814554  0.973684  0.000000  0.400227  0.000000   \n",
      "15     1.0  15001.0  0.814554  0.980000  0.000000  0.414966  0.000000   \n",
      "16     1.0  16001.0  0.814554  0.980000  0.000000  0.428571  0.000000   \n",
      "17     1.0  17001.0  0.811033  0.981053  0.000000  0.454649  0.000000   \n",
      "18     1.0  18001.0  0.811033  0.983158  0.000000  0.479592  0.000000   \n",
      "19     1.0  19001.0  0.806338  0.985263  0.000000  0.524943  0.000000   \n",
      "20     1.0  20001.0  0.802817  0.985263  0.000000  0.564626  0.000000   \n",
      "21     1.0  21001.0  0.798122  0.988421  0.000000  0.566893  0.000000   \n",
      "22     1.0  22001.0  0.795775  0.990526  0.000000  0.557823  0.000000   \n",
      "23     1.0  23001.0  0.781690  0.992632  0.000000  0.551020  0.000000   \n",
      "24     1.0  24001.0  0.772300  0.992632  0.000000  0.544218  0.000000   \n",
      "25     1.0  25001.0  0.766432  0.992632  0.000000  0.529478  0.000000   \n",
      "26     1.0  26001.0  0.712441  0.994737  0.000000  0.520408  0.000000   \n",
      "27     1.0  27001.0  0.000000  0.995789  0.000000  0.518141  0.000000   \n",
      "28     1.0  28001.0  0.000000  0.997895  0.000000  0.470522  0.000000   \n",
      "29     1.0  29001.0  0.000000  0.997895  0.000000  0.413832  0.000000   \n",
      "..     ...      ...       ...       ...       ...       ...       ...   \n",
      "208   25.0   4001.0  0.876761  0.995789  0.642946  0.768707  0.712700   \n",
      "209   25.0   5001.0  0.862676  0.994737  0.617978  0.742630  0.709001   \n",
      "210   25.0   6001.0  0.840376  0.993684  0.593009  0.717687  0.700370   \n",
      "211   25.0   7001.0  0.826291  0.993684  0.569288  0.697279  0.691739   \n",
      "212   25.0   8001.0  0.807512  0.990526  0.553059  0.666667  0.686806   \n",
      "213   25.0   9001.0  0.796948  0.990526  0.530587  0.643991  0.670777   \n",
      "214   25.0  10001.0  0.784038  0.991579  0.505618  0.621315  0.659679   \n",
      "215   25.0  11001.0  0.765258  0.993684  0.475655  0.594104  0.648582   \n",
      "216   25.0  12001.0  0.759390  0.994737  0.454432  0.569161  0.639951   \n",
      "217   25.0  13001.0  0.748826  0.995789  0.436954  0.544218  0.628853   \n",
      "218   25.0  14001.0  0.731221  0.996842  0.418227  0.514739  0.611591   \n",
      "219   25.0  15001.0  0.718310  0.996842  0.399501  0.487528  0.590629   \n",
      "220   25.0  16001.0  0.703052  0.996842  0.373283  0.459184  0.567201   \n",
      "221   25.0  17001.0  0.690141  0.996842  0.357054  0.414966  0.541307   \n",
      "222   25.0  18001.0  0.669014  0.997895  0.333333  0.391156  0.496917   \n",
      "223   25.0  19001.0  0.646714  0.998947  0.313358  0.350340  0.446363   \n",
      "224   25.0  20001.0  0.630282  0.998947  0.284644  0.317460  0.405672   \n",
      "225   25.0  21001.0  0.602113  0.998947  0.269663  0.283447  0.351418   \n",
      "226   25.0  22001.0  0.573944  1.000000  0.240949  0.256236  0.292232   \n",
      "227   25.0  23001.0  0.535211  1.000000  0.223471  0.225624  0.235512   \n",
      "228   25.0  24001.0  0.500000  1.000000  0.199750  0.188209  0.172626   \n",
      "229   25.0  25001.0  0.460094  1.000000  0.177278  0.156463  0.120838   \n",
      "230   25.0  26001.0  0.407277  1.000000  0.148564  0.133787  0.070284   \n",
      "231   25.0  27001.0  0.328638  1.000000  0.118602  0.099773  0.044390   \n",
      "232   25.0  28001.0  0.238263  1.000000  0.091136  0.073696  0.022195   \n",
      "233   25.0  29001.0  0.156103  1.000000  0.052434  0.046485  0.007398   \n",
      "234   25.0  30001.0  0.084507  1.000000  0.029963  0.031746  0.001233   \n",
      "235   25.0  31001.0  0.025822  1.000000  0.011236  0.013605  0.000000   \n",
      "236   25.0  32001.0  0.000000  1.000000  0.002497  0.005669  0.000000   \n",
      "237   25.0  33001.0  0.000000  1.000000  0.000000  0.000000  0.000000   \n",
      "\n",
      "            5         6         7         8         9  \n",
      "0    0.107095  0.134777  0.179864  0.113466  0.132143  \n",
      "1    0.005355  0.202166  0.527149  0.153367  0.019048  \n",
      "2    0.000000  0.228640  0.540724  0.185786  0.013095  \n",
      "3    0.000000  0.222623  0.522624  0.215711  0.000000  \n",
      "4    0.000000  0.227437  0.535068  0.204489  0.000000  \n",
      "5    0.000000  0.228640  0.522624  0.203242  0.000000  \n",
      "6    0.000000  0.212996  0.515837  0.188279  0.000000  \n",
      "7    0.000000  0.205776  0.495475  0.205736  0.000000  \n",
      "8    0.000000  0.211793  0.486425  0.172070  0.000000  \n",
      "9    0.000000  0.209386  0.484163  0.168329  0.000000  \n",
      "10   0.000000  0.215403  0.475113  0.163342  0.000000  \n",
      "11   0.000000  0.214200  0.466063  0.159601  0.000000  \n",
      "12   0.000000  0.217810  0.458145  0.139651  0.000000  \n",
      "13   0.000000  0.203369  0.450226  0.138404  0.000000  \n",
      "14   0.000000  0.208183  0.435520  0.117207  0.000000  \n",
      "15   0.000000  0.203369  0.430995  0.091022  0.000000  \n",
      "16   0.000000  0.170878  0.427602  0.084788  0.000000  \n",
      "17   0.000000  0.164862  0.410633  0.049875  0.000000  \n",
      "18   0.000000  0.149218  0.402715  0.033666  0.000000  \n",
      "19   0.000000  0.091456  0.394796  0.009975  0.000000  \n",
      "20   0.000000  0.039711  0.373303  0.000000  0.000000  \n",
      "21   0.000000  0.000000  0.365385  0.000000  0.000000  \n",
      "22   0.000000  0.000000  0.343891  0.000000  0.000000  \n",
      "23   0.000000  0.000000  0.338235  0.000000  0.000000  \n",
      "24   0.000000  0.000000  0.306561  0.000000  0.000000  \n",
      "25   0.000000  0.000000  0.290724  0.000000  0.000000  \n",
      "26   0.000000  0.000000  0.286199  0.000000  0.000000  \n",
      "27   0.000000  0.000000  0.263575  0.000000  0.000000  \n",
      "28   0.000000  0.000000  0.228507  0.000000  0.000000  \n",
      "29   0.000000  0.000000  0.201357  0.000000  0.000000  \n",
      "..        ...       ...       ...       ...       ...  \n",
      "208  0.429719  0.889290  0.848416  0.688279  0.745238  \n",
      "209  0.368139  0.859206  0.834842  0.649626  0.701190  \n",
      "210  0.317269  0.832732  0.826923  0.614713  0.678571  \n",
      "211  0.255689  0.809868  0.812217  0.584788  0.648810  \n",
      "212  0.208835  0.788207  0.812217  0.566085  0.629762  \n",
      "213  0.172691  0.761733  0.805430  0.536160  0.610714  \n",
      "214  0.143240  0.742479  0.796380  0.503741  0.588095  \n",
      "215  0.125837  0.717208  0.788462  0.478803  0.559524  \n",
      "216  0.097724  0.700361  0.786199  0.448878  0.547619  \n",
      "217  0.078983  0.682310  0.776018  0.415212  0.528571  \n",
      "218  0.064257  0.660650  0.762443  0.392768  0.500000  \n",
      "219  0.050870  0.645006  0.748869  0.365337  0.463095  \n",
      "220  0.038822  0.628159  0.736425  0.342893  0.427381  \n",
      "221  0.026774  0.610108  0.714932  0.315461  0.397619  \n",
      "222  0.018742  0.587244  0.683258  0.289277  0.359524  \n",
      "223  0.018742  0.566787  0.654977  0.264339  0.326190  \n",
      "224  0.016064  0.525872  0.630090  0.241895  0.280952  \n",
      "225  0.012048  0.494585  0.599548  0.211970  0.241667  \n",
      "226  0.009371  0.457280  0.562217  0.185786  0.198810  \n",
      "227  0.005355  0.424789  0.526018  0.158354  0.159524  \n",
      "228  0.001339  0.391095  0.486425  0.138404  0.114286  \n",
      "229  0.001339  0.333333  0.436652  0.118454  0.066667  \n",
      "230  0.001339  0.273165  0.365385  0.081047  0.041667  \n",
      "231  0.000000  0.208183  0.302036  0.053616  0.019048  \n",
      "232  0.000000  0.121540  0.231900  0.026185  0.005952  \n",
      "233  0.000000  0.061372  0.162896  0.008728  0.003571  \n",
      "234  0.000000  0.019254  0.109729  0.002494  0.000000  \n",
      "235  0.000000  0.001203  0.067873  0.000000  0.000000  \n",
      "236  0.000000  0.000000  0.027149  0.000000  0.000000  \n",
      "237  0.000000  0.000000  0.004525  0.000000  0.000000  \n",
      "\n",
      "[238 rows x 12 columns]\n"
     ]
    }
   ],
   "source": [
    "import csv\n",
    "\n",
    "import pandas as pd\n",
    "with open('../resultados/knn_pca_recall.csv', newline='') as csvfile:\n",
    "    spamreader = csv.reader(csvfile, delimiter=(','), quotechar='|')\n",
    "    numbers = next(spamreader)\n",
    "    data = []\n",
    "    for row in spamreader:\n",
    "        data_row = [float(i) for i in row]\n",
    "        data.append(data_row)\n",
    "df = pd.DataFrame(data, columns =numbers)\n",
    "print(df)"
   ]
  },
  {
   "cell_type": "code",
   "execution_count": 15,
   "id": "cd18e271",
   "metadata": {},
   "outputs": [
    {
     "data": {
      "image/png": "[encoded data removed]",
      "text/plain": [
       "<Figure size 432x288 with 2 Axes>"
      ]
     },
     "metadata": {
      "needs_background": "light"
     },
     "output_type": "display_data"
    }
   ],
   "source": [
    "df_1 = df.loc[df['alpha'] == 1]\n",
    "df_1 =df_1.set_index('k')\n",
    "df_1.pop(\"alpha\")\n",
    "\n",
    "import seaborn as sns\n",
    "import matplotlib.pyplot as plt\n",
    "\n",
    "image = sns.heatmap(df_1, annot=False,cmap=\"Accent_r\")\n",
    "image.set(xlabel='Digito', ylabel='K',title= 'Recall de cada digito segun el k para alpha = 1')\n",
    "fig = image.get_figure()\n",
    "fig.savefig('../resultados/knn_pca_recall_1', dpi =500)"
   ]
  },
  {
   "cell_type": "code",
   "execution_count": 18,
   "id": "7082288a",
   "metadata": {},
   "outputs": [
    {
     "data": {
      "image/png": "[encoded data removed]",
      "text/plain": [
       "<Figure size 432x288 with 2 Axes>"
      ]
     },
     "metadata": {
      "needs_background": "light"
     },
     "output_type": "display_data"
    }
   ],
   "source": [
    "df_1 = df.loc[df['alpha'] == 13]\n",
    "df_1 =df_1.set_index('k')\n",
    "df_1.pop(\"alpha\")\n",
    "\n",
    "import seaborn as sns\n",
    "import matplotlib.pyplot as plt\n",
    "\n",
    "image = sns.heatmap(df_1, annot=False,cmap=\"Accent_r\")\n",
    "image.set(xlabel='Digito', ylabel='K',title= 'Recall de cada digito segun el k para alpha = 13')\n",
    "fig = image.get_figure()\n",
    "fig.savefig('../resultados/knn_pca_recall_13', dpi =500)"
   ]
  },
  {
   "cell_type": "code",
   "execution_count": 19,
   "id": "5e886add",
   "metadata": {},
   "outputs": [
    {
     "data": {
      "image/png": "[encoded data removed]",
      "text/plain": [
       "<Figure size 432x288 with 2 Axes>"
      ]
     },
     "metadata": {
      "needs_background": "light"
     },
     "output_type": "display_data"
    }
   ],
   "source": [
    "df_1 = df.loc[df['alpha'] == 25]\n",
    "df_1 =df_1.set_index('k')\n",
    "df_1.pop(\"alpha\")\n",
    "\n",
    "import seaborn as sns\n",
    "import matplotlib.pyplot as plt\n",
    "\n",
    "image = sns.heatmap(df_1, annot=False,cmap=\"Accent_r\")\n",
    "image.set(xlabel='Digito', ylabel='K',title= 'Recall de cada digito segun el k para alpha = 25')\n",
    "fig = image.get_figure()\n",
    "fig.savefig('../resultados/knn_pca_recall_25', dpi =500)"
   ]
  }
 ],
 "metadata": {
  "kernelspec": {
   "display_name": "Python 3",
   "language": "python",
   "name": "python3"
  },
  "language_info": {
   "codemirror_mode": {
    "name": "ipython",
    "version": 3
   },
   "file_extension": ".py",
   "mimetype": "text/x-python",
   "name": "python",
   "nbconvert_exporter": "python",
   "pygments_lexer": "ipython3",
   "version": "3.6.5"
  }
 },
 "nbformat": 4,
 "nbformat_minor": 5
}

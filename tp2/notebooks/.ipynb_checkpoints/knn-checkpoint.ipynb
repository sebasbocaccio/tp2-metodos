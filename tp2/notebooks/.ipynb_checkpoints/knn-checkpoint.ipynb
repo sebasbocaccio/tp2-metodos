{
 "cells": [
  {
   "cell_type": "markdown",
   "metadata": {},
   "source": [
    "# Reconocimiento de dígitos con KNN\n",
    "\n",
    "Veamos como interactuar con las clases implementadas en el módulo de C++ haciendo una experimentación muy simplificada, y a modo de ejemplo, del método KNN para reconocer digitos"
   ]
  },
  {
   "cell_type": "markdown",
   "metadata": {},
   "source": [
    "## Compilando el módulo desde C++\n",
    "\n",
    "Definir los path al ejecutable de python 3.6 y sus librerías,\n",
    "de acuerdo al virtual env que estén corriendo."
   ]
  },
  {
   "cell_type": "code",
   "execution_count": null,
   "metadata": {},
   "outputs": [],
   "source": [
    "!cd .. && mkdir build\n",
    "!cd ../build/ && rm -rf *\n",
    "!cd ../build && cmake \\\n",
    "  -DPYTHON_EXECUTABLE=\"$(which python)\" \\\n",
    "  -DCMAKE_BUILD_TYPE=Release ..\n",
    "!cd ../build && make install"
   ]
  },
  {
   "cell_type": "code",
   "execution_count": 2,
   "metadata": {},
   "outputs": [
    {
     "name": "stdout",
     "output_type": "stream",
     "text": [
      "/home/sebasbocaccio/Desktop/FACU/Metodos/tp2-metodos/tp2/notebooks\n",
      "Python 3.6.5 :: Anaconda, Inc.\n"
     ]
    }
   ],
   "source": [
    "# Verifico la correcta instalación. Si no falla el import está OK\n",
    "!pwd\n",
    "!python --version\n",
    "import metnum"
   ]
  },
  {
   "cell_type": "markdown",
   "metadata": {},
   "source": [
    "## Explorando los datos"
   ]
  },
  {
   "cell_type": "code",
   "execution_count": 3,
   "metadata": {},
   "outputs": [],
   "source": [
    "%load_ext autoreload\n",
    "%autoreload 2\n",
    "import pandas as pd\n",
    "\n",
    "df_train = pd.read_csv(\"../data/train.csv\")"
   ]
  },
  {
   "cell_type": "markdown",
   "metadata": {},
   "source": [
    "Es un csv, con columnas por cada pixel"
   ]
  },
  {
   "cell_type": "code",
   "execution_count": 4,
   "metadata": {},
   "outputs": [
    {
     "data": {
      "text/html": [
       "<div>\n",
       "<style scoped>\n",
       "    .dataframe tbody tr th:only-of-type {\n",
       "        vertical-align: middle;\n",
       "    }\n",
       "\n",
       "    .dataframe tbody tr th {\n",
       "        vertical-align: top;\n",
       "    }\n",
       "\n",
       "    .dataframe thead th {\n",
       "        text-align: right;\n",
       "    }\n",
       "</style>\n",
       "<table border=\"1\" class=\"dataframe\">\n",
       "  <thead>\n",
       "    <tr style=\"text-align: right;\">\n",
       "      <th></th>\n",
       "      <th>label</th>\n",
       "      <th>pixel0</th>\n",
       "      <th>pixel1</th>\n",
       "      <th>pixel2</th>\n",
       "      <th>pixel3</th>\n",
       "      <th>pixel4</th>\n",
       "      <th>pixel5</th>\n",
       "      <th>pixel6</th>\n",
       "      <th>pixel7</th>\n",
       "      <th>pixel8</th>\n",
       "      <th>...</th>\n",
       "      <th>pixel774</th>\n",
       "      <th>pixel775</th>\n",
       "      <th>pixel776</th>\n",
       "      <th>pixel777</th>\n",
       "      <th>pixel778</th>\n",
       "      <th>pixel779</th>\n",
       "      <th>pixel780</th>\n",
       "      <th>pixel781</th>\n",
       "      <th>pixel782</th>\n",
       "      <th>pixel783</th>\n",
       "    </tr>\n",
       "  </thead>\n",
       "  <tbody>\n",
       "    <tr>\n",
       "      <th>0</th>\n",
       "      <td>1</td>\n",
       "      <td>0</td>\n",
       "      <td>0</td>\n",
       "      <td>0</td>\n",
       "      <td>0</td>\n",
       "      <td>0</td>\n",
       "      <td>0</td>\n",
       "      <td>0</td>\n",
       "      <td>0</td>\n",
       "      <td>0</td>\n",
       "      <td>...</td>\n",
       "      <td>0</td>\n",
       "      <td>0</td>\n",
       "      <td>0</td>\n",
       "      <td>0</td>\n",
       "      <td>0</td>\n",
       "      <td>0</td>\n",
       "      <td>0</td>\n",
       "      <td>0</td>\n",
       "      <td>0</td>\n",
       "      <td>0</td>\n",
       "    </tr>\n",
       "    <tr>\n",
       "      <th>1</th>\n",
       "      <td>0</td>\n",
       "      <td>0</td>\n",
       "      <td>0</td>\n",
       "      <td>0</td>\n",
       "      <td>0</td>\n",
       "      <td>0</td>\n",
       "      <td>0</td>\n",
       "      <td>0</td>\n",
       "      <td>0</td>\n",
       "      <td>0</td>\n",
       "      <td>...</td>\n",
       "      <td>0</td>\n",
       "      <td>0</td>\n",
       "      <td>0</td>\n",
       "      <td>0</td>\n",
       "      <td>0</td>\n",
       "      <td>0</td>\n",
       "      <td>0</td>\n",
       "      <td>0</td>\n",
       "      <td>0</td>\n",
       "      <td>0</td>\n",
       "    </tr>\n",
       "    <tr>\n",
       "      <th>2</th>\n",
       "      <td>1</td>\n",
       "      <td>0</td>\n",
       "      <td>0</td>\n",
       "      <td>0</td>\n",
       "      <td>0</td>\n",
       "      <td>0</td>\n",
       "      <td>0</td>\n",
       "      <td>0</td>\n",
       "      <td>0</td>\n",
       "      <td>0</td>\n",
       "      <td>...</td>\n",
       "      <td>0</td>\n",
       "      <td>0</td>\n",
       "      <td>0</td>\n",
       "      <td>0</td>\n",
       "      <td>0</td>\n",
       "      <td>0</td>\n",
       "      <td>0</td>\n",
       "      <td>0</td>\n",
       "      <td>0</td>\n",
       "      <td>0</td>\n",
       "    </tr>\n",
       "    <tr>\n",
       "      <th>3</th>\n",
       "      <td>4</td>\n",
       "      <td>0</td>\n",
       "      <td>0</td>\n",
       "      <td>0</td>\n",
       "      <td>0</td>\n",
       "      <td>0</td>\n",
       "      <td>0</td>\n",
       "      <td>0</td>\n",
       "      <td>0</td>\n",
       "      <td>0</td>\n",
       "      <td>...</td>\n",
       "      <td>0</td>\n",
       "      <td>0</td>\n",
       "      <td>0</td>\n",
       "      <td>0</td>\n",
       "      <td>0</td>\n",
       "      <td>0</td>\n",
       "      <td>0</td>\n",
       "      <td>0</td>\n",
       "      <td>0</td>\n",
       "      <td>0</td>\n",
       "    </tr>\n",
       "    <tr>\n",
       "      <th>4</th>\n",
       "      <td>0</td>\n",
       "      <td>0</td>\n",
       "      <td>0</td>\n",
       "      <td>0</td>\n",
       "      <td>0</td>\n",
       "      <td>0</td>\n",
       "      <td>0</td>\n",
       "      <td>0</td>\n",
       "      <td>0</td>\n",
       "      <td>0</td>\n",
       "      <td>...</td>\n",
       "      <td>0</td>\n",
       "      <td>0</td>\n",
       "      <td>0</td>\n",
       "      <td>0</td>\n",
       "      <td>0</td>\n",
       "      <td>0</td>\n",
       "      <td>0</td>\n",
       "      <td>0</td>\n",
       "      <td>0</td>\n",
       "      <td>0</td>\n",
       "    </tr>\n",
       "    <tr>\n",
       "      <th>5</th>\n",
       "      <td>0</td>\n",
       "      <td>0</td>\n",
       "      <td>0</td>\n",
       "      <td>0</td>\n",
       "      <td>0</td>\n",
       "      <td>0</td>\n",
       "      <td>0</td>\n",
       "      <td>0</td>\n",
       "      <td>0</td>\n",
       "      <td>0</td>\n",
       "      <td>...</td>\n",
       "      <td>0</td>\n",
       "      <td>0</td>\n",
       "      <td>0</td>\n",
       "      <td>0</td>\n",
       "      <td>0</td>\n",
       "      <td>0</td>\n",
       "      <td>0</td>\n",
       "      <td>0</td>\n",
       "      <td>0</td>\n",
       "      <td>0</td>\n",
       "    </tr>\n",
       "    <tr>\n",
       "      <th>6</th>\n",
       "      <td>7</td>\n",
       "      <td>0</td>\n",
       "      <td>0</td>\n",
       "      <td>0</td>\n",
       "      <td>0</td>\n",
       "      <td>0</td>\n",
       "      <td>0</td>\n",
       "      <td>0</td>\n",
       "      <td>0</td>\n",
       "      <td>0</td>\n",
       "      <td>...</td>\n",
       "      <td>0</td>\n",
       "      <td>0</td>\n",
       "      <td>0</td>\n",
       "      <td>0</td>\n",
       "      <td>0</td>\n",
       "      <td>0</td>\n",
       "      <td>0</td>\n",
       "      <td>0</td>\n",
       "      <td>0</td>\n",
       "      <td>0</td>\n",
       "    </tr>\n",
       "    <tr>\n",
       "      <th>7</th>\n",
       "      <td>3</td>\n",
       "      <td>0</td>\n",
       "      <td>0</td>\n",
       "      <td>0</td>\n",
       "      <td>0</td>\n",
       "      <td>0</td>\n",
       "      <td>0</td>\n",
       "      <td>0</td>\n",
       "      <td>0</td>\n",
       "      <td>0</td>\n",
       "      <td>...</td>\n",
       "      <td>0</td>\n",
       "      <td>0</td>\n",
       "      <td>0</td>\n",
       "      <td>0</td>\n",
       "      <td>0</td>\n",
       "      <td>0</td>\n",
       "      <td>0</td>\n",
       "      <td>0</td>\n",
       "      <td>0</td>\n",
       "      <td>0</td>\n",
       "    </tr>\n",
       "    <tr>\n",
       "      <th>8</th>\n",
       "      <td>5</td>\n",
       "      <td>0</td>\n",
       "      <td>0</td>\n",
       "      <td>0</td>\n",
       "      <td>0</td>\n",
       "      <td>0</td>\n",
       "      <td>0</td>\n",
       "      <td>0</td>\n",
       "      <td>0</td>\n",
       "      <td>0</td>\n",
       "      <td>...</td>\n",
       "      <td>0</td>\n",
       "      <td>0</td>\n",
       "      <td>0</td>\n",
       "      <td>0</td>\n",
       "      <td>0</td>\n",
       "      <td>0</td>\n",
       "      <td>0</td>\n",
       "      <td>0</td>\n",
       "      <td>0</td>\n",
       "      <td>0</td>\n",
       "    </tr>\n",
       "    <tr>\n",
       "      <th>9</th>\n",
       "      <td>3</td>\n",
       "      <td>0</td>\n",
       "      <td>0</td>\n",
       "      <td>0</td>\n",
       "      <td>0</td>\n",
       "      <td>0</td>\n",
       "      <td>0</td>\n",
       "      <td>0</td>\n",
       "      <td>0</td>\n",
       "      <td>0</td>\n",
       "      <td>...</td>\n",
       "      <td>0</td>\n",
       "      <td>0</td>\n",
       "      <td>0</td>\n",
       "      <td>0</td>\n",
       "      <td>0</td>\n",
       "      <td>0</td>\n",
       "      <td>0</td>\n",
       "      <td>0</td>\n",
       "      <td>0</td>\n",
       "      <td>0</td>\n",
       "    </tr>\n",
       "  </tbody>\n",
       "</table>\n",
       "<p>10 rows × 785 columns</p>\n",
       "</div>"
      ],
      "text/plain": [
       "   label  pixel0  pixel1  pixel2  pixel3  pixel4  pixel5  pixel6  pixel7  \\\n",
       "0      1       0       0       0       0       0       0       0       0   \n",
       "1      0       0       0       0       0       0       0       0       0   \n",
       "2      1       0       0       0       0       0       0       0       0   \n",
       "3      4       0       0       0       0       0       0       0       0   \n",
       "4      0       0       0       0       0       0       0       0       0   \n",
       "5      0       0       0       0       0       0       0       0       0   \n",
       "6      7       0       0       0       0       0       0       0       0   \n",
       "7      3       0       0       0       0       0       0       0       0   \n",
       "8      5       0       0       0       0       0       0       0       0   \n",
       "9      3       0       0       0       0       0       0       0       0   \n",
       "\n",
       "   pixel8  ...  pixel774  pixel775  pixel776  pixel777  pixel778  pixel779  \\\n",
       "0       0  ...         0         0         0         0         0         0   \n",
       "1       0  ...         0         0         0         0         0         0   \n",
       "2       0  ...         0         0         0         0         0         0   \n",
       "3       0  ...         0         0         0         0         0         0   \n",
       "4       0  ...         0         0         0         0         0         0   \n",
       "5       0  ...         0         0         0         0         0         0   \n",
       "6       0  ...         0         0         0         0         0         0   \n",
       "7       0  ...         0         0         0         0         0         0   \n",
       "8       0  ...         0         0         0         0         0         0   \n",
       "9       0  ...         0         0         0         0         0         0   \n",
       "\n",
       "   pixel780  pixel781  pixel782  pixel783  \n",
       "0         0         0         0         0  \n",
       "1         0         0         0         0  \n",
       "2         0         0         0         0  \n",
       "3         0         0         0         0  \n",
       "4         0         0         0         0  \n",
       "5         0         0         0         0  \n",
       "6         0         0         0         0  \n",
       "7         0         0         0         0  \n",
       "8         0         0         0         0  \n",
       "9         0         0         0         0  \n",
       "\n",
       "[10 rows x 785 columns]"
      ]
     },
     "execution_count": 4,
     "metadata": {},
     "output_type": "execute_result"
    }
   ],
   "source": [
    "df_train[:10]"
   ]
  },
  {
   "cell_type": "markdown",
   "metadata": {},
   "source": [
    "### Reducir el dataset\n",
    "\n",
    "Ya que el dataset es grande, me quedo con una porción de éste\n",
    "\n",
    "**<font color=red>ESTO ES SOLO PARA HACER PRUEBAS. CUANDO REPORTEN LOS RESULTADOS, USAR DATASET COMPLETO</font>**"
   ]
  },
  {
   "cell_type": "code",
   "execution_count": 5,
   "metadata": {},
   "outputs": [],
   "source": [
    "df_train = df_train[:5000]"
   ]
  },
  {
   "cell_type": "markdown",
   "metadata": {},
   "source": [
    "En el primer caracter está el dígito a reconocer. Llamamos a esto `y_train`"
   ]
  },
  {
   "cell_type": "code",
   "execution_count": 6,
   "metadata": {},
   "outputs": [
    {
     "data": {
      "text/plain": [
       "((5000, 784), (5000, 1))"
      ]
     },
     "execution_count": 6,
     "metadata": {},
     "output_type": "execute_result"
    }
   ],
   "source": [
    "# Uso values para mandar todo a arrays de numpy\n",
    "X = df_train[df_train.columns[1:]].values\n",
    "y = df_train[\"label\"].values.reshape(-1, 1)\n",
    "\n",
    "X.shape, y.shape"
   ]
  },
  {
   "cell_type": "markdown",
   "metadata": {},
   "source": [
    "Convierto el resto a matrices de 28 x 28"
   ]
  },
  {
   "cell_type": "markdown",
   "metadata": {},
   "source": [
    "A ver cómo se ven..."
   ]
  },
  {
   "cell_type": "code",
   "execution_count": 7,
   "metadata": {},
   "outputs": [
    {
     "name": "stdout",
     "output_type": "stream",
     "text": [
      "Supuestamente es un 7\n"
     ]
    },
    {
     "data": {
      "text/plain": [
       "<matplotlib.image.AxesImage at 0x7fb3da760240>"
      ]
     },
     "execution_count": 7,
     "metadata": {},
     "output_type": "execute_result"
    },
    {
     "data": {
      "image/png": "[encoded data removed]",
      "text/plain": [
       "<Figure size 432x288 with 1 Axes>"
      ]
     },
     "metadata": {
      "needs_background": "light"
     },
     "output_type": "display_data"
    }
   ],
   "source": [
    "import matplotlib.pyplot as plt\n",
    "\n",
    "num = 1917\n",
    "\n",
    "print(f\"Supuestamente es un {int(y[num])}\")\n",
    "\n",
    "img = X[num].reshape(28, 28)\n",
    "plt.imshow(img, cmap=\"Greys\")\n"
   ]
  },
  {
   "cell_type": "markdown",
   "metadata": {},
   "source": [
    "### Balance de clases\n",
    "\n",
    "¿Tenemos la misma cantidad de cada número?"
   ]
  },
  {
   "cell_type": "code",
   "execution_count": 8,
   "metadata": {},
   "outputs": [
    {
     "data": {
      "text/plain": [
       "1    0.1116\n",
       "2    0.1090\n",
       "6    0.1032\n",
       "7    0.1012\n",
       "0    0.0988\n",
       "3    0.0960\n",
       "9    0.0956\n",
       "8    0.0954\n",
       "4    0.0954\n",
       "5    0.0938\n",
       "Name: label, dtype: float64"
      ]
     },
     "execution_count": 8,
     "metadata": {},
     "output_type": "execute_result"
    }
   ],
   "source": [
    "df_train[\"label\"].value_counts(normalize=True)"
   ]
  },
  {
   "cell_type": "markdown",
   "metadata": {},
   "source": [
    "No: tenemos más 1 que 5, pero tampoco está tan desbalanceado"
   ]
  },
  {
   "cell_type": "markdown",
   "metadata": {},
   "source": [
    "### Conjunto de development"
   ]
  },
  {
   "cell_type": "code",
   "execution_count": 9,
   "metadata": {},
   "outputs": [
    {
     "name": "stdout",
     "output_type": "stream",
     "text": [
      "[  0   0   0   0   0   0   0   0   0   0   0   0   0   0   0   0   0   0\n",
      "   0   0   0   0   0   0   0   0   0   0   0   0   0   0   0   0   0   0\n",
      "   0   0   0   0   0   0   0   0   0   0   0   0   0   0   0   0   0   0\n",
      "   0   0   0   0   0   0   0   0   0   0   0   0   0   0   0   0   0   0\n",
      "   0   0   0   0   0   0   0   0   0   0   0   0   0   0   0   0   0   0\n",
      "   0   0   0   0   0   0   0   0   0   0   0   0   0   0   0   0   0   0\n",
      "   0   0   0   0   0   0   0   0   0   0   0   0   0   0   0   0   0   0\n",
      "   0   0   0   0   0   0 188 255  94   0   0   0   0   0   0   0   0   0\n",
      "   0   0   0   0   0   0   0   0   0   0   0   0   0   0   0 191 250 253\n",
      "  93   0   0   0   0   0   0   0   0   0   0   0   0   0   0   0   0   0\n",
      "   0   0   0   0   0   0 123 248 253 167  10   0   0   0   0   0   0   0\n",
      "   0   0   0   0   0   0   0   0   0   0   0   0   0   0   0  80 247 253\n",
      " 208  13   0   0   0   0   0   0   0   0   0   0   0   0   0   0   0   0\n",
      "   0   0   0   0   0   0  29 207 253 235  77   0   0   0   0   0   0   0\n",
      "   0   0   0   0   0   0   0   0   0   0   0   0   0   0   0  54 209 253\n",
      " 253  88   0   0   0   0   0   0   0   0   0   0   0   0   0   0   0   0\n",
      "   0   0   0   0   0   0  93 254 253 238 170  17   0   0   0   0   0   0\n",
      "   0   0   0   0   0   0   0   0   0   0   0   0   0   0   0  23 210 254\n",
      " 253 159   0   0   0   0   0   0   0   0   0   0   0   0   0   0   0   0\n",
      "   0   0   0   0   0   0  16 209 253 254 240  81   0   0   0   0   0   0\n",
      "   0   0   0   0   0   0   0   0   0   0   0   0   0   0   0   0  27 253\n",
      " 253 254  13   0   0   0   0   0   0   0   0   0   0   0   0   0   0   0\n",
      "   0   0   0   0   0   0   0  20 206 254 254 198   7   0   0   0   0   0\n",
      "   0   0   0   0   0   0   0   0   0   0   0   0   0   0   0   0   0 168\n",
      " 253 253 196   7   0   0   0   0   0   0   0   0   0   0   0   0   0   0\n",
      "   0   0   0   0   0   0   0   0  20 203 253 248  76   0   0   0   0   0\n",
      "   0   0   0   0   0   0   0   0   0   0   0   0   0   0   0   0   0  22\n",
      " 188 253 245  93   0   0   0   0   0   0   0   0   0   0   0   0   0   0\n",
      "   0   0   0   0   0   0   0   0   0 103 253 253 191   0   0   0   0   0\n",
      "   0   0   0   0   0   0   0   0   0   0   0   0   0   0   0   0   0   0\n",
      "  89 240 253 195  25   0   0   0   0   0   0   0   0   0   0   0   0   0\n",
      "   0   0   0   0   0   0   0   0   0  15 220 253 253  80   0   0   0   0\n",
      "   0   0   0   0   0   0   0   0   0   0   0   0   0   0   0   0   0   0\n",
      "   0  94 253 253 253  94   0   0   0   0   0   0   0   0   0   0   0   0\n",
      "   0   0   0   0   0   0   0   0   0   0   0  89 251 253 250 131   0   0\n",
      "   0   0   0   0   0   0   0   0   0   0   0   0   0   0   0   0   0   0\n",
      "   0   0   0   0 214 218  95   0   0   0   0   0   0   0   0   0   0   0\n",
      "   0   0   0   0   0   0   0   0   0   0   0   0   0   0   0   0   0   0\n",
      "   0   0   0   0   0   0   0   0   0   0   0   0   0   0   0   0   0   0\n",
      "   0   0   0   0   0   0   0   0   0   0   0   0   0   0   0   0   0   0\n",
      "   0   0   0   0   0   0   0   0   0   0   0   0   0   0   0   0   0   0\n",
      "   0   0   0   0   0   0   0   0   0   0   0   0   0   0   0   0   0   0\n",
      "   0   0   0   0   0   0   0   0   0   0   0   0   0   0   0   0   0   0\n",
      "   0   0   0   0   0   0   0   0   0   0]\n",
      "Ahora tengo 4000 instancias de entrenamiento y 1000 de validación\n"
     ]
    }
   ],
   "source": [
    "limit = int(0.8 * X.shape[0]) \n",
    "\n",
    "X_train, y_train = X[:limit], y[:limit]\n",
    "X_val, y_val = X[limit:], y[limit:]\n",
    "print((X_train[0]))\n",
    "assert len(X_train) == len(y_train)\n",
    "assert len(X_val) == len(y_val)\n",
    "\n",
    "print(f\"Ahora tengo {len(X_train)} instancias de entrenamiento y {len(X_val)} de validación\")\n"
   ]
  },
  {
   "cell_type": "code",
   "execution_count": 10,
   "metadata": {},
   "outputs": [
    {
     "name": "stdout",
     "output_type": "stream",
     "text": [
      "['__class__', '__delattr__', '__dir__', '__doc__', '__eq__', '__format__', '__ge__', '__getattribute__', '__gt__', '__hash__', '__init__', '__init_subclass__', '__le__', '__lt__', '__module__', '__ne__', '__new__', '__reduce__', '__reduce_ex__', '__repr__', '__setattr__', '__sizeof__', '__str__', '__subclasshook__', 'fit', 'predict']\n"
     ]
    }
   ],
   "source": [
    "from sklearn.neighbors import KNeighborsClassifier\n",
    "\n",
    "# Acá pueden cambiar el clasificador nuestro por el de sklearn!\n",
    "\n",
    "clf = metnum.KNNClassifier(100)\n",
    "#clf = KNeighborsClassifier(100)\n",
    "print (dir(type(clf)))\n",
    "\n",
    "clf.fit(X_train, y_train)\n"
   ]
  },
  {
   "cell_type": "code",
   "execution_count": 11,
   "metadata": {},
   "outputs": [
    {
     "name": "stdout",
     "output_type": "stream",
     "text": [
      "[10000. 10000. 10000. 10000. 10000. 10000. 10000. 10000. 10000. 10000.\n",
      " 10000. 10000. 10000. 10000. 10000. 10000. 10000. 10000. 10000. 10000.\n",
      " 10000. 10000. 10000. 10000. 10000. 10000. 10000. 10000. 10000. 10000.\n",
      " 10000. 10000. 10000. 10000. 10000. 10000. 10000. 10000. 10000. 10000.\n",
      " 10000. 10000. 10000. 10000. 10000. 10000. 10000. 10000. 10000. 10000.\n",
      " 10000. 10000. 10000. 10000. 10000. 10000. 10000. 10000. 10000. 10000.\n",
      " 10000. 10000. 10000. 10000. 10000. 10000. 10000. 10000. 10000. 10000.\n",
      " 10000. 10000. 10000. 10000. 10000. 10000. 10000. 10000. 10000. 10000.\n",
      " 10000. 10000. 10000. 10000. 10000. 10000. 10000. 10000. 10000. 10000.\n",
      " 10000. 10000. 10000. 10000. 10000. 10000. 10000. 10000. 10000. 10000.\n",
      " 10000. 10000. 10000. 10000. 10000. 10000. 10000. 10000. 10000. 10000.\n",
      " 10000. 10000. 10000. 10000. 10000. 10000. 10000. 10000. 10000. 10000.\n",
      " 10000. 10000. 10000. 10000. 10000. 10000. 10000. 10000. 10000. 10000.\n",
      " 10000. 10000. 10000. 10000. 10000. 10000. 10000. 10000. 10000. 10000.\n",
      " 10000. 10000. 10000. 10000. 10000. 10000. 10000. 10000. 10000. 10000.\n",
      " 10000. 10000. 10000. 10000. 10000. 10000. 10000. 10000. 10000. 10000.\n",
      " 10000. 10000. 10000. 10000. 10000. 10000. 10000. 10000. 10000. 10000.\n",
      " 10000. 10000. 10000. 10000. 10000. 10000. 10000. 10000. 10000. 10000.\n",
      " 10000. 10000. 10000. 10000. 10000. 10000. 10000. 10000. 10000. 10000.\n",
      " 10000. 10000. 10000. 10000. 10000. 10000. 10000. 10000. 10000. 10000.\n",
      " 10000. 10000. 10000. 10000. 10000. 10000. 10000. 10000. 10000. 10000.\n",
      " 10000. 10000. 10000. 10000. 10000. 10000. 10000. 10000. 10000. 10000.\n",
      " 10000. 10000. 10000. 10000. 10000. 10000. 10000. 10000. 10000. 10000.\n",
      " 10000. 10000. 10000. 10000. 10000. 10000. 10000. 10000. 10000. 10000.\n",
      " 10000. 10000. 10000. 10000. 10000. 10000. 10000. 10000. 10000. 10000.\n",
      " 10000. 10000. 10000. 10000. 10000. 10000. 10000. 10000. 10000. 10000.\n",
      " 10000. 10000. 10000. 10000. 10000. 10000. 10000. 10000. 10000. 10000.\n",
      " 10000. 10000. 10000. 10000. 10000. 10000. 10000. 10000. 10000. 10000.\n",
      " 10000. 10000. 10000. 10000. 10000. 10000. 10000. 10000. 10000. 10000.\n",
      " 10000. 10000. 10000. 10000. 10000. 10000. 10000. 10000. 10000. 10000.\n",
      " 10000. 10000. 10000. 10000. 10000. 10000. 10000. 10000. 10000. 10000.\n",
      " 10000. 10000. 10000. 10000. 10000. 10000. 10000. 10000. 10000. 10000.\n",
      " 10000. 10000. 10000. 10000. 10000. 10000. 10000. 10000. 10000. 10000.\n",
      " 10000. 10000. 10000. 10000. 10000. 10000. 10000. 10000. 10000. 10000.\n",
      " 10000. 10000. 10000. 10000. 10000. 10000. 10000. 10000. 10000. 10000.\n",
      " 10000. 10000. 10000. 10000. 10000. 10000. 10000. 10000. 10000. 10000.\n",
      " 10000. 10000. 10000. 10000. 10000. 10000. 10000. 10000. 10000. 10000.\n",
      " 10000. 10000. 10000. 10000. 10000. 10000. 10000. 10000. 10000. 10000.\n",
      " 10000. 10000. 10000. 10000. 10000. 10000. 10000. 10000. 10000. 10000.\n",
      " 10000. 10000. 10000. 10000. 10000. 10000. 10000. 10000. 10000. 10000.\n",
      " 10000. 10000. 10000. 10000. 10000. 10000. 10000. 10000. 10000. 10000.\n",
      " 10000. 10000. 10000. 10000. 10000. 10000. 10000. 10000. 10000. 10000.\n",
      " 10000. 10000. 10000. 10000. 10000. 10000. 10000. 10000. 10000. 10000.\n",
      " 10000. 10000. 10000. 10000. 10000. 10000. 10000. 10000. 10000. 10000.\n",
      " 10000. 10000. 10000. 10000. 10000. 10000. 10000. 10000. 10000. 10000.\n",
      " 10000. 10000. 10000. 10000. 10000. 10000. 10000. 10000. 10000. 10000.\n",
      " 10000. 10000. 10000. 10000. 10000. 10000. 10000. 10000. 10000. 10000.\n",
      " 10000. 10000. 10000. 10000. 10000. 10000. 10000. 10000. 10000. 10000.\n",
      " 10000. 10000. 10000. 10000. 10000. 10000. 10000. 10000. 10000. 10000.\n",
      " 10000. 10000. 10000. 10000. 10000. 10000. 10000. 10000. 10000. 10000.\n",
      " 10000. 10000. 10000. 10000. 10000. 10000. 10000. 10000. 10000. 10000.\n",
      " 10000. 10000. 10000. 10000. 10000. 10000. 10000. 10000. 10000. 10000.\n",
      " 10000. 10000. 10000. 10000. 10000. 10000. 10000. 10000. 10000. 10000.\n",
      " 10000. 10000. 10000. 10000. 10000. 10000. 10000. 10000. 10000. 10000.\n",
      " 10000. 10000. 10000. 10000. 10000. 10000. 10000. 10000. 10000. 10000.\n",
      " 10000. 10000. 10000. 10000. 10000. 10000. 10000. 10000. 10000. 10000.\n",
      " 10000. 10000. 10000. 10000. 10000. 10000. 10000. 10000. 10000. 10000.\n",
      " 10000. 10000. 10000. 10000. 10000. 10000. 10000. 10000. 10000. 10000.\n",
      " 10000. 10000. 10000. 10000. 10000. 10000. 10000. 10000. 10000. 10000.\n",
      " 10000. 10000. 10000. 10000. 10000. 10000. 10000. 10000. 10000. 10000.\n",
      " 10000. 10000. 10000. 10000. 10000. 10000. 10000. 10000. 10000. 10000.\n",
      " 10000. 10000. 10000. 10000. 10000. 10000. 10000. 10000. 10000. 10000.\n",
      " 10000. 10000. 10000. 10000. 10000. 10000. 10000. 10000. 10000. 10000.\n",
      " 10000. 10000. 10000. 10000. 10000. 10000. 10000. 10000. 10000. 10000.\n",
      " 10000. 10000. 10000. 10000. 10000. 10000. 10000. 10000. 10000. 10000.\n",
      " 10000. 10000. 10000. 10000. 10000. 10000. 10000. 10000. 10000. 10000.\n",
      " 10000. 10000. 10000. 10000. 10000. 10000. 10000. 10000. 10000. 10000.\n",
      " 10000. 10000. 10000. 10000. 10000. 10000. 10000. 10000. 10000. 10000.\n",
      " 10000. 10000. 10000. 10000. 10000. 10000. 10000. 10000. 10000. 10000.\n",
      " 10000. 10000. 10000. 10000. 10000. 10000. 10000. 10000. 10000. 10000.\n",
      " 10000. 10000. 10000. 10000. 10000. 10000. 10000. 10000. 10000. 10000.\n",
      " 10000. 10000. 10000. 10000. 10000. 10000. 10000. 10000. 10000. 10000.\n",
      " 10000. 10000. 10000. 10000. 10000. 10000. 10000. 10000. 10000. 10000.\n",
      " 10000. 10000. 10000. 10000. 10000. 10000. 10000. 10000. 10000. 10000.\n",
      " 10000. 10000. 10000. 10000. 10000. 10000. 10000. 10000. 10000. 10000.\n",
      " 10000. 10000. 10000. 10000. 10000. 10000. 10000. 10000. 10000. 10000.\n",
      " 10000. 10000. 10000. 10000. 10000. 10000. 10000. 10000. 10000. 10000.\n",
      " 10000. 10000. 10000. 10000. 10000. 10000. 10000. 10000. 10000. 10000.\n",
      " 10000. 10000. 10000. 10000. 10000. 10000. 10000. 10000. 10000. 10000.\n",
      " 10000. 10000. 10000. 10000. 10000. 10000. 10000. 10000. 10000. 10000.\n",
      " 10000. 10000. 10000. 10000. 10000. 10000. 10000. 10000. 10000. 10000.\n",
      " 10000. 10000. 10000. 10000. 10000. 10000. 10000. 10000. 10000. 10000.\n",
      " 10000. 10000. 10000. 10000. 10000. 10000. 10000. 10000. 10000. 10000.\n",
      " 10000. 10000. 10000. 10000. 10000. 10000. 10000. 10000. 10000. 10000.\n",
      " 10000. 10000. 10000. 10000. 10000. 10000. 10000. 10000. 10000. 10000.\n",
      " 10000. 10000. 10000. 10000. 10000. 10000. 10000. 10000. 10000. 10000.\n",
      " 10000. 10000. 10000. 10000. 10000. 10000. 10000. 10000. 10000. 10000.\n",
      " 10000. 10000. 10000. 10000. 10000. 10000. 10000. 10000. 10000. 10000.\n",
      " 10000. 10000. 10000. 10000. 10000. 10000. 10000. 10000. 10000. 10000.\n",
      " 10000. 10000. 10000. 10000. 10000. 10000. 10000. 10000. 10000. 10000.\n",
      " 10000. 10000. 10000. 10000. 10000. 10000. 10000. 10000. 10000. 10000.\n",
      " 10000. 10000. 10000. 10000. 10000. 10000. 10000. 10000. 10000. 10000.\n",
      " 10000. 10000. 10000. 10000. 10000. 10000. 10000. 10000. 10000. 10000.\n",
      " 10000. 10000. 10000. 10000. 10000. 10000. 10000. 10000. 10000. 10000.\n",
      " 10000. 10000. 10000. 10000. 10000. 10000. 10000. 10000. 10000. 10000.\n",
      " 10000. 10000. 10000. 10000. 10000. 10000. 10000. 10000. 10000. 10000.\n",
      " 10000. 10000. 10000. 10000. 10000. 10000. 10000. 10000. 10000. 10000.\n",
      " 10000. 10000. 10000. 10000. 10000. 10000. 10000. 10000. 10000. 10000.\n",
      " 10000. 10000. 10000. 10000. 10000. 10000. 10000. 10000. 10000. 10000.\n",
      " 10000. 10000. 10000. 10000. 10000. 10000. 10000. 10000. 10000. 10000.]\n",
      "Accuracy: 0.0\n",
      "CPU times: user 25.1 ms, sys: 0 ns, total: 25.1 ms\n",
      "Wall time: 27.3 ms\n"
     ]
    }
   ],
   "source": [
    "%%time\n",
    "from sklearn.metrics import accuracy_score\n",
    "y_pred = clf.predict(X_val)\n",
    "print(y_pred)\n",
    "acc = accuracy_score(y_val, y_pred)\n",
    "print(\"Accuracy: {}\".format(acc))\n"
   ]
  },
  {
   "cell_type": "code",
   "execution_count": null,
   "metadata": {},
   "outputs": [],
   "source": []
  },
  {
   "cell_type": "code",
   "execution_count": null,
   "metadata": {},
   "outputs": [],
   "source": []
  },
  {
   "cell_type": "code",
   "execution_count": null,
   "metadata": {},
   "outputs": [],
   "source": []
  },
  {
   "cell_type": "code",
   "execution_count": null,
   "metadata": {},
   "outputs": [],
   "source": []
  }
 ],
 "metadata": {
  "kernelspec": {
   "display_name": "tp2",
   "language": "python",
   "name": "tp2"
  },
  "language_info": {
   "codemirror_mode": {
    "name": "ipython",
    "version": 3
   },
   "file_extension": ".py",
   "mimetype": "text/x-python",
   "name": "python",
   "nbconvert_exporter": "python",
   "pygments_lexer": "ipython3",
   "version": "3.6.5"
  }
 },
 "nbformat": 4,
 "nbformat_minor": 2
}

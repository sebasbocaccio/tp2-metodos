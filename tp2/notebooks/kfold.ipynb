{
 "cells": [
  {
   "cell_type": "markdown",
   "id": "9ef25726",
   "metadata": {},
   "source": [
    "## Defino la función kFold\n",
    "\n",
    "### Parámetros\n",
    "\n",
    "**Datos:** Path al archivos train.csv.<br>\n",
    "**cantFolds:** Es la cantidad de folds. Se ejecuta kNN por cada fold, así que no conviene poner más de 5 para que no demore tanto la ejecución.<br>\n",
    "**k:** Parámetro k de kNN.<br>\n",
    "**alfa:** Parámetro alfa de PCA. Si ponen alfa=0 se ejecuta kNN sin PCA.<br>\n",
    "**semilla:** Es un parámetro opcional para que los resultados sean reproducibles, porque los datos de entrada se distribuyen en los folds de manera aleatoria.\n",
    "\n",
    "Devuelve una lista con el accuracy de cada ejecución de kNN"
   ]
  },
  {
   "cell_type": "code",
   "execution_count": 8,
   "id": "70a9ab73",
   "metadata": {},
   "outputs": [],
   "source": [
    "import pandas as pd\n",
    "import numpy as np\n",
    "import metnum\n",
    "from sklearn.metrics import accuracy_score\n",
    "\n",
    "def kFold(datos, cantFolds, k, alfa, semilla=None):\n",
    "    # Cargo los datos\n",
    "    df_train = pd.read_csv(datos)\n",
    "    \n",
    "    # Desordeno los datos\n",
    "    df_train = df_train.sample(frac=1, random_state=semilla)\n",
    "    \n",
    "    # Separo los datos en pixeles y etiquetas y los guardo en arrays de numpy\n",
    "    X = df_train[df_train.columns[1:]].values\n",
    "    y = df_train[\"label\"].values.reshape(-1, 1)\n",
    "    \n",
    "    # Aplico PCA\n",
    "    if (alfa > 0):\n",
    "        pca = metnum.PCA(alfa)\n",
    "        X = pca.transform(X)\n",
    "    \n",
    "    # Particiono el conjunto de datos en k folds del mismo tamaño\n",
    "    folds = []\n",
    "    limites = [0]\n",
    "    \n",
    "    for i in range(1,cantFolds+1):\n",
    "        datosPorFold = len(df_train)//cantFolds\n",
    "        limites.append(i*datosPorFold)\n",
    "    \n",
    "    for i in range(len(limites)-1):\n",
    "        folds.append([X[limites[i]:limites[i+1]], y[limites[i]:limites[i+1]]])\n",
    "        \n",
    "    # Aplico kNN\n",
    "    clf = metnum.KNNClassifier(k)\n",
    "    acc = []\n",
    "    \n",
    "    for i in range(cantFolds):\n",
    "        # Creo una lista para separar el índice del fold que voy a usar para validar\n",
    "        indices = [[],i]\n",
    "        for j in range(cantFolds):\n",
    "            if (j != i):\n",
    "                indices[0].append(j)\n",
    "\n",
    "        X_val = folds[indices[1]][0]\n",
    "        y_val = folds[indices[1]][1]\n",
    "\n",
    "        # Uno todos los folds que voy a usar para entrenar en un único array de numpy\n",
    "        X_train = folds[indices[0][0]][0]\n",
    "        y_train = folds[indices[0][0]][1]\n",
    "        indices[0].pop()\n",
    "\n",
    "        for j in indices[0]:\n",
    "            X_train = np.concatenate([X_train, folds[j][0]])\n",
    "            y_train = np.concatenate([y_train, folds[j][1]])\n",
    "\n",
    "        # Aplico kNN\n",
    "        clf.fit(X_train, y_train)\n",
    "        y_pred = clf.predict(X_val)\n",
    "        acc.append(accuracy_score(y_val, y_pred))\n",
    "    \n",
    "    return acc"
   ]
  },
  {
   "cell_type": "markdown",
   "id": "06fe23ad",
   "metadata": {},
   "source": [
    "## Pruebo la función"
   ]
  },
  {
   "cell_type": "markdown",
   "id": "0d775fec",
   "metadata": {},
   "source": [
    "### Primero sin semilla"
   ]
  },
  {
   "cell_type": "code",
   "execution_count": 11,
   "id": "50969641",
   "metadata": {},
   "outputs": [
    {
     "name": "stdout",
     "output_type": "stream",
     "text": [
      "CPU times: user 5min 40s, sys: 2.23 s, total: 5min 43s\n",
      "Wall time: 5min 42s\n"
     ]
    }
   ],
   "source": [
    "%%time\n",
    "resultados1 = kFold(\"../data/train.csv\",5,10,20)"
   ]
  },
  {
   "cell_type": "code",
   "execution_count": 12,
   "id": "eee1e36a",
   "metadata": {},
   "outputs": [
    {
     "data": {
      "text/plain": [
       "[0.9651190476190477,\n",
       " 0.9602380952380952,\n",
       " 0.9589285714285715,\n",
       " 0.9629761904761904,\n",
       " 0.9607142857142857]"
      ]
     },
     "execution_count": 12,
     "metadata": {},
     "output_type": "execute_result"
    }
   ],
   "source": [
    "resultados1"
   ]
  },
  {
   "cell_type": "markdown",
   "id": "b35b06b7",
   "metadata": {},
   "source": [
    "### Ahora especifico una semilla para ver si consigo resultados reproducibles"
   ]
  },
  {
   "cell_type": "code",
   "execution_count": 14,
   "id": "7778e6cb",
   "metadata": {},
   "outputs": [],
   "source": [
    "semilla = 1000\n",
    "\n",
    "resultados2 = kFold(\"../data/train.csv\",5,10,20,semilla)"
   ]
  },
  {
   "cell_type": "code",
   "execution_count": 15,
   "id": "88548aa0",
   "metadata": {},
   "outputs": [
    {
     "data": {
      "text/plain": [
       "[0.9602380952380952,\n",
       " 0.9603571428571429,\n",
       " 0.9629761904761904,\n",
       " 0.9603571428571429,\n",
       " 0.963452380952381]"
      ]
     },
     "execution_count": 15,
     "metadata": {},
     "output_type": "execute_result"
    }
   ],
   "source": [
    "resultados2"
   ]
  },
  {
   "cell_type": "code",
   "execution_count": 16,
   "id": "8bc27255",
   "metadata": {},
   "outputs": [],
   "source": [
    "resultados3 = kFold(\"../data/train.csv\",5,10,20,semilla)"
   ]
  },
  {
   "cell_type": "code",
   "execution_count": 17,
   "id": "71164bcb",
   "metadata": {},
   "outputs": [
    {
     "data": {
      "text/plain": [
       "[0.9602380952380952,\n",
       " 0.9603571428571429,\n",
       " 0.9629761904761904,\n",
       " 0.9603571428571429,\n",
       " 0.963452380952381]"
      ]
     },
     "execution_count": 17,
     "metadata": {},
     "output_type": "execute_result"
    }
   ],
   "source": [
    "resultados3"
   ]
  },
  {
   "cell_type": "code",
   "execution_count": null,
   "id": "8fd7315c",
   "metadata": {},
   "outputs": [],
   "source": []
  }
 ],
 "metadata": {
  "kernelspec": {
   "display_name": "Python 3",
   "language": "python",
   "name": "python3"
  },
  "language_info": {
   "codemirror_mode": {
    "name": "ipython",
    "version": 3
   },
   "file_extension": ".py",
   "mimetype": "text/x-python",
   "name": "python",
   "nbconvert_exporter": "python",
   "pygments_lexer": "ipython3",
   "version": "3.6.5"
  }
 },
 "nbformat": 4,
 "nbformat_minor": 5
}

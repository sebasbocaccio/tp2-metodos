{
 "cells": [
  {
   "cell_type": "code",
   "execution_count": 1,
   "metadata": {},
   "outputs": [],
   "source": [
    "%load_ext autoreload\n",
    "%autoreload 2\n",
    "import pandas as pd\n",
    "from tqdm import tqdm\n",
    "import metnum\n",
    "import numpy\n",
    "from sklearn.utils import shuffle\n",
    "from sklearn.metrics import accuracy_score,precision_score,recall_score\n",
    "import csv"
   ]
  },
  {
   "cell_type": "code",
   "execution_count": 2,
   "metadata": {},
   "outputs": [],
   "source": [
    "def dividir_en_training_testing(M,percentage):\n",
    "    limit = int(percentage * M.shape[0]) \n",
    "    M_train = M[:limit]\n",
    "    M_val = M[limit:]\n",
    "    return M_train,M_val\n"
   ]
  },
  {
   "cell_type": "code",
   "execution_count": 3,
   "metadata": {},
   "outputs": [],
   "source": [
    "def dividir_en_X_y(M):\n",
    "    X = M[M.columns[1:]].values\n",
    "    y = M[\"label\"].values.reshape(-1, 1)\n",
    "    return X,y"
   ]
  },
  {
   "cell_type": "code",
   "execution_count": 4,
   "metadata": {},
   "outputs": [],
   "source": [
    "def cargar_datos_de_experimento(percentage,cant_muestra=42000):\n",
    "    df_train = pd.read_csv(\"../data/train.csv\")\n",
    "    df_train = shuffle(df_train)\n",
    "    df_train = df_train[:cant_muestra]\n",
    "    X,y = dividir_en_X_y(df_train)\n",
    "    X_train,X_val = dividir_en_training_testing(X,percentage)\n",
    "    y_train,y_val = dividir_en_training_testing(y,percentage)\n",
    "    return X_train,X_val,y_train,y_val\n",
    "    "
   ]
  },
  {
   "cell_type": "code",
   "execution_count": 9,
   "metadata": {},
   "outputs": [],
   "source": [
    "def correr_Knn_con_todos_los_k_posibles(porcentage_para_entrenar,cant_muestras=42000):\n",
    "    X_train,X_val,y_train,y_val = cargar_datos_de_experimento(porcentage_para_entrenar,cant_muestras)\n",
    "    file = open(\"../resultados/knn_solo_resultados.txt\", \"w\")\n",
    "    \n",
    "    accuracy_of_all_k = []\n",
    "    precision_df = pd.DataFrame(columns=(0,1,2,3,4,5,6,7,8,9))\n",
    "    recall_df = pd.DataFrame(columns=(0,1,2,3,4,5,6,7,8,9))\n",
    "    \n",
    "    # Hago el fit generico que guarda los datos \n",
    "    clf = metnum.KNNClassifier(1)\n",
    "    clf.fit(X_train, y_train)\n",
    "    \n",
    "    for k in tqdm(range(1,X_train.shape[0]+1,500)):\n",
    "        \n",
    "        # Correr knn \n",
    "        clf = metnum.KNNClassifier(k)\n",
    "        y_pred = clf.predict(X_val)\n",
    "        \n",
    "        # Calcular metricas de interes\n",
    "        labels= [0,1,2,3,4,5,6,7,8,9]\n",
    "        precision = precision_score(y_val, y_pred,labels=labels, average=None)\n",
    "        accuracy =  accuracy_score(y_val, y_pred)\n",
    "        recall   =  recall_score(y_val,y_pred,labels=labels, average=None)\n",
    "        \n",
    "        # Escribir los resultados\n",
    "        accuracy_of_all_k.append(accuracy)\n",
    "    \n",
    "    \n",
    "            # Agregar una fila al dataframe de precision\n",
    "        digit = 0 \n",
    "        precision_dict={}\n",
    "        for i in range(0,10,1):\n",
    "            precision_dict[digit]=precision[i]\n",
    "            digit += 1 \n",
    "        precision_df = precision_df.append(precision_dict,ignore_index=True)\n",
    "\n",
    "             # Agregar una fila al dataframe de recall\n",
    "        digit = 0 \n",
    "        recall_dict={}\n",
    "        for i in range(0,10,1):\n",
    "            recall_dict[digit]=recall[i]\n",
    "            digit += 1 \n",
    "        recall_df = recall_df.append(recall_dict,ignore_index=True)\n",
    " \n",
    "    # Escribo los resultados a un archivo para no tener que correr devuelta los resultados.\n",
    "    precision_df.to_csv('knn_solo_precision.csv', index=False) \n",
    "    recall_df.to_csv('knn_solo_recall.csv', index=False)   \n",
    "\n",
    "    with open('knn_solo_acuracy.csv', 'w', newline='') as myfile:\n",
    "        wr = csv.writer(myfile, quoting=csv.QUOTE_ALL)\n",
    "        wr.writerow(accuracy_of_all_k)\n",
    "\n",
    "    file.close()\n",
    "\n",
    "    "
   ]
  },
  {
   "cell_type": "code",
   "execution_count": null,
   "metadata": {},
   "outputs": [
    {
     "name": "stderr",
     "output_type": "stream",
     "text": [
      "\r",
      "  0%|          | 0/68 [00:00<?, ?it/s]"
     ]
    }
   ],
   "source": [
    "correr_Knn_con_todos_los_k_posibles(0.8)"
   ]
  }
 ],
 "metadata": {
  "kernelspec": {
   "display_name": "tp2",
   "language": "python",
   "name": "tp2"
  },
  "language_info": {
   "codemirror_mode": {
    "name": "ipython",
    "version": 3
   },
   "file_extension": ".py",
   "mimetype": "text/x-python",
   "name": "python",
   "nbconvert_exporter": "python",
   "pygments_lexer": "ipython3",
   "version": "3.6.5"
  }
 },
 "nbformat": 4,
 "nbformat_minor": 2
}

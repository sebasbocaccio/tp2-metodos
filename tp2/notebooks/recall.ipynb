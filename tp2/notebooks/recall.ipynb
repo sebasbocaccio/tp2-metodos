{
 "cells": [
  {
   "cell_type": "markdown",
   "id": "ab11f492",
   "metadata": {},
   "source": [
    "# Recall"
   ]
  },
  {
   "cell_type": "markdown",
   "id": "e2dd3f0c",
   "metadata": {},
   "source": [
    "# Knn solo"
   ]
  },
  {
   "cell_type": "code",
   "execution_count": null,
   "id": "77f330c3",
   "metadata": {},
   "outputs": [],
   "source": [
    "import csv\n",
    "import numpy as np \n",
    "\n",
    "import pandas as pd\n",
    "with open('../resultados/knn_solo_recall.csv', newline='') as csvfile:\n",
    "    spamreader = csv.reader(csvfile, delimiter=(','), quotechar='|')\n",
    "    numbers = next(spamreader)\n",
    "    data = []\n",
    "    for row in spamreader:\n",
    "        data_row = [float(i) for i in row]\n",
    "        data.append(data_row)\n",
    "df = pd.DataFrame(data, columns =numbers)\n",
    "display(df)"
   ]
  },
  {
   "cell_type": "code",
   "execution_count": null,
   "id": "fe7baeb3",
   "metadata": {},
   "outputs": [],
   "source": [
    "\n",
    "\n",
    "import seaborn as sns\n",
    "import matplotlib.pyplot as plt\n",
    " \n",
    "# image = sns.heatmap(df_1, annot=False,cmap=\"RdBu\")\n",
    "# image.set(xlabel='Digito', ylabel='K',title= 'Precision de cada digito segun el k para alpha = 1')\n",
    "# fig = image.get_figure()\n",
    "# fig.savefig('../resultados/knn_pca_presicion_1', dpi =500)\n",
    "\n",
    "\n",
    "dfm = df_alpha1.melt('k', var_name='dígito', value_name='recall')\n",
    "dfm = dfm[dfm['dígito'] != 'alpha']\n",
    "display(dfm)\n",
    "plt.figure(figsize=(9,5)) \n",
    "fig = sns.pointplot(x=\"k\", y=\"recall\", hue='dígito', data=dfm, kind='point')\n",
    "fig.set_xticklabels(fig.get_xticklabels(), rotation=40, ha=\"right\")\n",
    "plt.tight_layout()\n",
    "plt.savefig('../resultados/knn_solo_recall', dpi =500)"
   ]
  },
  {
   "cell_type": "markdown",
   "id": "993cd841",
   "metadata": {},
   "source": [
    "# Knn + pca"
   ]
  },
  {
   "cell_type": "code",
   "execution_count": null,
   "id": "3003ad8a",
   "metadata": {},
   "outputs": [],
   "source": [
    "import csv\n",
    "\n",
    "import pandas as pd\n",
    "with open('../resultados/knn_pca_recall.csv', newline='') as csvfile:\n",
    "    spamreader = csv.reader(csvfile, delimiter=(','), quotechar='|')\n",
    "    numbers = next(spamreader)\n",
    "    data = []\n",
    "    for row in spamreader:\n",
    "        data_row = [float(i) for i in row]\n",
    "        data.append(data_row)\n",
    "df = pd.DataFrame(data, columns =numbers)\n",
    "print(df)"
   ]
  },
  {
   "cell_type": "code",
   "execution_count": null,
   "id": "cd18e271",
   "metadata": {},
   "outputs": [],
   "source": [
    "\n",
    "\n",
    "import seaborn as sns\n",
    "import matplotlib.pyplot as plt\n",
    " \n",
    "# image = sns.heatmap(df_1, annot=False,cmap=\"RdBu\")\n",
    "# image.set(xlabel='Digito', ylabel='K',title= 'Precision de cada digito segun el k para alpha = 1')\n",
    "# fig = image.get_figure()\n",
    "# fig.savefig('../resultados/knn_pca_presicion_1', dpi =500)\n",
    "\n",
    "\n",
    "df_alpha1 = df.loc[df['alpha'] == 1]\n",
    "dfm = df_alpha1.melt('k', var_name='dígito', value_name='recall')\n",
    "dfm = dfm[dfm['dígito'] != 'alpha']\n",
    "display(dfm)\n",
    "plt.figure(figsize=(9,5)) \n",
    "fig = sns.pointplot(x=\"k\", y=\"recall\", hue='dígito', data=dfm, kind='point')\n",
    "fig.set_xticklabels(fig.get_xticklabels(), rotation=40, ha=\"right\")\n",
    "plt.tight_layout()\n",
    "plt.savefig('../resultados/knn_pca_recall_1', dpi =500)"
   ]
  },
  {
   "cell_type": "code",
   "execution_count": null,
   "id": "7082288a",
   "metadata": {},
   "outputs": [],
   "source": [
    "import seaborn as sns\n",
    "import matplotlib.pyplot as plt\n",
    " \n",
    "# image = sns.heatmap(df_1, annot=False,cmap=\"RdBu\")\n",
    "# image.set(xlabel='Digito', ylabel='K',title= 'Precision de cada digito segun el k para alpha = 1')\n",
    "# fig = image.get_figure()\n",
    "# fig.savefig('../resultados/knn_pca_presicion_1', dpi =500)\n",
    "\n",
    "df_alpha13 = df.loc[df['alpha'] == 13]\n",
    "dfm = df_alpha13.melt('k', var_name='dígito', value_name='recall')\n",
    "dfm = dfm[dfm['dígito'] != 'alpha']\n",
    "display(dfm)\n",
    "plt.figure(figsize=(9,5)) \n",
    "fig = sns.pointplot(x=\"k\", y=\"recall\", hue='dígito', data=dfm, kind='point')\n",
    "fig.set_xticklabels(fig.get_xticklabels(), rotation=40, ha=\"right\")\n",
    "plt.tight_layout()\n",
    "plt.savefig('../resultados/knn_pca_recall_13', dpi =500)"
   ]
  },
  {
   "cell_type": "code",
   "execution_count": null,
   "id": "5e886add",
   "metadata": {},
   "outputs": [],
   "source": [
    "import seaborn as sns\n",
    "import matplotlib.pyplot as plt\n",
    " \n",
    "# image = sns.heatmap(df_1, annot=False,cmap=\"RdBu\")\n",
    "# image.set(xlabel='Digito', ylabel='K',title= 'Precision de cada digito segun el k para alpha = 1')\n",
    "# fig = image.get_figure()\n",
    "# fig.savefig('../resultados/knn_pca_presicion_1', dpi =500)\n",
    "\n",
    "df_alpha1 = df.loc[df['alpha'] == 25]\n",
    "dfm = df_alpha1.melt('k', var_name='dígito', value_name='recall')\n",
    "dfm = dfm[dfm['dígito'] != 'alpha']\n",
    "display(dfm)\n",
    "plt.figure(figsize=(9,5)) \n",
    "fig = sns.pointplot(x=\"k\", y=\"recall\", hue='dígito', data=dfm, kind='point')\n",
    "fig.set_xticklabels(fig.get_xticklabels(), rotation=40, ha=\"right\")\n",
    "plt.tight_layout()\n",
    "plt.savefig('../resultados/knn_pca_recall_25', dpi =500)"
   ]
  }
 ],
 "metadata": {
  "kernelspec": {
   "display_name": "Python 3",
   "language": "python",
   "name": "python3"
  },
  "language_info": {
   "codemirror_mode": {
    "name": "ipython",
    "version": 3
   },
   "file_extension": ".py",
   "mimetype": "text/x-python",
   "name": "python",
   "nbconvert_exporter": "python",
   "pygments_lexer": "ipython3",
   "version": "3.6.5"
  }
 },
 "nbformat": 4,
 "nbformat_minor": 5
}

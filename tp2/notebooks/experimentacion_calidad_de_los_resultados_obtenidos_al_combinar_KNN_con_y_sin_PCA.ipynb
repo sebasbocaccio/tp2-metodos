{
 "cells": [
  {
   "cell_type": "code",
   "execution_count": 1,
   "metadata": {},
   "outputs": [],
   "source": [
    "%load_ext autoreload\n",
    "%autoreload 2\n",
    "import pandas as pd\n",
    "from tqdm import tqdm\n",
    "import metnum\n",
    "import numpy\n",
    "from sklearn.utils import shuffle\n",
    "from sklearn.metrics import accuracy_score,precision_score,recall_score,f1_score\n",
    "import csv\n",
    "import time\n"
   ]
  },
  {
   "cell_type": "code",
   "execution_count": 2,
   "metadata": {},
   "outputs": [],
   "source": [
    "def correr_Knn_con_porcentage_training(porcentage_para_entrenar,cant_muestras=42000,semilla = 2):\n",
    "    df_train = pd.read_csv(\"../data/train.csv\")\n",
    "    df_train =  df_train.sample(frac=1, random_state=semilla)\n",
    "    X= df_train[df_train.columns[1:]].values\n",
    "    y = df_train[\"label\"].values.reshape(-1, 1)\n",
    "\n",
    "    accuracy_of_all_k = []\n",
    "    precision_df = pd.DataFrame(columns=(0,1,2,3,4,5,6,7,8,9))\n",
    "    recall_df = pd.DataFrame(columns=(0,1,2,3,4,5,6,7,8,9))\n",
    "    f1_df = pd.DataFrame(columns=(0,1,2,3,4,5,6,7,8,9))\n",
    "    times = [] \n",
    "    valores_k = [1,5,10,25,50,75,100,200,500,1000,2000,5000,10000,20000]\n",
    "    setup_time_start_time = time.time()\n",
    "    \n",
    "    limit = int(0.8 * X.shape[0]) \n",
    "    X_train = X[:limit]\n",
    "    X_val = X[limit:]\n",
    "    y_train = y[:limit]\n",
    "    y_val = y[limit:]\n",
    "    alpha = 0\n",
    "    # Hago el fit generico que guarda los datos \n",
    "    setup_time_end_time = time.time()\n",
    "    setup_time = setup_time_end_time-setup_time_start_time\n",
    "    for k in tqdm(valores_k):\n",
    "\n",
    "        # Correr knn \n",
    " \n",
    "        knn_start_time = time.time()\n",
    "        clf = metnum.KNNClassifier(k)\n",
    "        clf.fit(X_train, y_train)\n",
    "        y_pred = clf.predict(X_val)\n",
    "        print(accuracy_score(y_val, y_pred))\n",
    "        knn_end_time = time.time()\n",
    "        knn_time = knn_end_time-knn_start_time\n",
    "        # Calcular metricas de interes\n",
    "        labels= [0,1,2,3,4,5,6,7,8,9]\n",
    "        precision = precision_score(y_val, y_pred,labels=labels, average=None)\n",
    "        accuracy =  accuracy_score(y_val, y_pred)\n",
    "        recall   =  recall_score(y_val,y_pred,labels=labels, average=None)\n",
    "        f1 = f1_score(y_val,y_pred,labels=labels, average=None)\n",
    "\n",
    "        # Escribir los resultados\n",
    "        accuracy_of_all_k.append([alpha, k ,accuracy])\n",
    "        times.append(setup_time+knn_time)\n",
    "\n",
    "            # Agregar una fila al dataframe de precision\n",
    "        digit = 0 \n",
    "        precision_dict={}\n",
    "        for i in range(0,10,1):\n",
    "            precision_dict[digit]=precision[i]\n",
    "            digit += 1 \n",
    "        precision_dict['k']=k\n",
    "        precision_dict['alpha']=alpha\n",
    "        precision_df = precision_df.append(precision_dict,ignore_index=True)\n",
    "\n",
    "             # Agregar una fila al dataframe de recall\n",
    "        digit = 0 \n",
    "        recall_dict={}\n",
    "        for i in range(0,10,1):\n",
    "            recall_dict[digit]=recall[i]\n",
    "            digit += 1 \n",
    "        recall_dict['k']=k\n",
    "        recall_dict['alpha']=alpha\n",
    "        recall_df = recall_df.append(recall_dict,ignore_index=True)\n",
    "        \n",
    "            # Agregar una fila al dataframe de f1\n",
    "            \n",
    "        digit = 0 \n",
    "        f1_dict={}\n",
    "        for i in range(0,10,1):\n",
    "            f1_dict[digit]=f1[i]\n",
    "            digit += 1 \n",
    "        f1_dict['k']=k\n",
    "        f1_dict['alpha']=alpha\n",
    "        f1_df = f1_df.append(f1_dict,ignore_index=True)\n",
    "            \n",
    "\n",
    "    # Escribo los resultados a un archivo para no tener que correr devuelta los resultados.\n",
    "    precision_df.to_csv('knn_solo_precision.csv', index=False) \n",
    "    recall_df.to_csv('knn_solo_recall.csv', index=False)   \n",
    "    f1_df.to_csv('knn_solo_f1.csv', index=False)   \n",
    "\n",
    "    with open('knn_solo_acuracy.csv', 'w', newline='') as myfile:\n",
    "        wr = csv.writer(myfile, quoting=csv.QUOTE_ALL)\n",
    "        wr.writerow(accuracy_of_all_k)\n",
    "\n",
    "    with open('knn_solo_time.csv', 'w', newline='') as myfile:\n",
    "        wr = csv.writer(myfile, quoting=csv.QUOTE_ALL)\n",
    "        wr.writerow(times)\n",
    "        \n",
    "    \n",
    "    with open('knn_solo_predicciones.csv', 'w', newline='') as myfile:\n",
    "        wr = csv.writer(myfile, quoting=csv.QUOTE_ALL)\n",
    "        wr.writerow(y_pred)\n",
    "\n",
    "\n",
    "\n",
    "    "
   ]
  },
  {
   "cell_type": "code",
   "execution_count": 9,
   "metadata": {},
   "outputs": [
    {
     "name": "stderr",
     "output_type": "stream",
     "text": [
      "  7%|▋         | 1/14 [06:19<1:22:07, 379.01s/it]"
     ]
    },
    {
     "name": "stdout",
     "output_type": "stream",
     "text": [
      "0.9673809523809523\n"
     ]
    },
    {
     "name": "stderr",
     "output_type": "stream",
     "text": [
      "\r",
      " 14%|█▍        | 2/14 [12:17<1:13:23, 366.98s/it]"
     ]
    },
    {
     "name": "stdout",
     "output_type": "stream",
     "text": [
      "0.9677380952380953\n"
     ]
    },
    {
     "name": "stderr",
     "output_type": "stream",
     "text": [
      "\r",
      " 21%|██▏       | 3/14 [18:23<1:07:12, 366.60s/it]"
     ]
    },
    {
     "name": "stdout",
     "output_type": "stream",
     "text": [
      "0.9663095238095238\n"
     ]
    },
    {
     "name": "stderr",
     "output_type": "stream",
     "text": [
      "\r",
      " 29%|██▊       | 4/14 [24:20<1:00:26, 362.66s/it]"
     ]
    },
    {
     "name": "stdout",
     "output_type": "stream",
     "text": [
      "0.9569047619047619\n"
     ]
    },
    {
     "name": "stderr",
     "output_type": "stream",
     "text": [
      "\r",
      " 36%|███▌      | 5/14 [30:19<54:12, 361.34s/it]  "
     ]
    },
    {
     "name": "stdout",
     "output_type": "stream",
     "text": [
      "0.9457142857142857\n"
     ]
    },
    {
     "name": "stderr",
     "output_type": "stream",
     "text": [
      "\r",
      " 43%|████▎     | 6/14 [36:16<47:58, 359.79s/it]"
     ]
    },
    {
     "name": "stdout",
     "output_type": "stream",
     "text": [
      "0.9383333333333334\n"
     ]
    },
    {
     "name": "stderr",
     "output_type": "stream",
     "text": [
      "\r",
      " 50%|█████     | 7/14 [42:10<41:45, 357.99s/it]"
     ]
    },
    {
     "name": "stdout",
     "output_type": "stream",
     "text": [
      "0.9329761904761905\n"
     ]
    },
    {
     "name": "stderr",
     "output_type": "stream",
     "text": [
      "\r",
      " 57%|█████▋    | 8/14 [48:04<35:41, 356.87s/it]"
     ]
    },
    {
     "name": "stdout",
     "output_type": "stream",
     "text": [
      "0.914047619047619\n"
     ]
    },
    {
     "name": "stderr",
     "output_type": "stream",
     "text": [
      "\r",
      " 64%|██████▍   | 9/14 [53:59<29:40, 356.08s/it]"
     ]
    },
    {
     "name": "stdout",
     "output_type": "stream",
     "text": [
      "0.8772619047619048\n"
     ]
    },
    {
     "name": "stderr",
     "output_type": "stream",
     "text": [
      "\r",
      " 71%|███████▏  | 10/14 [59:53<23:42, 355.57s/it]"
     ]
    },
    {
     "name": "stdout",
     "output_type": "stream",
     "text": [
      "0.8370238095238095\n"
     ]
    },
    {
     "name": "stderr",
     "output_type": "stream",
     "text": [
      "\r",
      " 79%|███████▊  | 11/14 [1:05:48<17:45, 355.30s/it]"
     ]
    },
    {
     "name": "stdout",
     "output_type": "stream",
     "text": [
      "0.7751190476190476\n"
     ]
    },
    {
     "name": "stderr",
     "output_type": "stream",
     "text": [
      "\r",
      " 86%|████████▌ | 12/14 [1:11:43<11:50, 355.18s/it]"
     ]
    },
    {
     "name": "stdout",
     "output_type": "stream",
     "text": [
      "0.6575\n"
     ]
    },
    {
     "name": "stderr",
     "output_type": "stream",
     "text": [
      "\r",
      " 93%|█████████▎| 13/14 [1:17:50<05:58, 358.72s/it]"
     ]
    },
    {
     "name": "stdout",
     "output_type": "stream",
     "text": [
      "0.516547619047619\n"
     ]
    },
    {
     "name": "stderr",
     "output_type": "stream",
     "text": [
      "100%|██████████| 14/14 [1:24:14<00:00, 361.04s/it]"
     ]
    },
    {
     "name": "stdout",
     "output_type": "stream",
     "text": [
      "0.29404761904761906\n"
     ]
    },
    {
     "name": "stderr",
     "output_type": "stream",
     "text": [
      "\n"
     ]
    }
   ],
   "source": [
    "correr_Knn_con_porcentage_training(0.8)"
   ]
  },
  {
   "cell_type": "code",
   "execution_count": 2,
   "metadata": {},
   "outputs": [],
   "source": [
    "def correr_Knn_pca(porcentage_para_entrenar,intervalo_alpha,cant_muestras=42000,semilla = 2,):\n",
    "    df_train = pd.read_csv(\"../data/train.csv\")\n",
    "    df_train =  df_train.sample(frac=1, random_state=semilla)\n",
    "    X_original = df_train[df_train.columns[1:]].values\n",
    "    y = df_train[\"label\"].values.reshape(-1, 1)\n",
    "\n",
    "    valores_k = [1,5,10,25,50,75,100,200,500,1000,2000,5000,10000,20000]\n",
    "    accuracy_of_all_k = []\n",
    "    precision_df = pd.DataFrame(columns=('alpha','k',0,1,2,3,4,5,6,7,8,9))\n",
    "    recall_df = pd.DataFrame(columns=('alpha','k',0,1,2,3,4,5,6,7,8,9))\n",
    "    f1_df = pd.DataFrame(columns=(0,1,2,3,4,5,6,7,8,9))\n",
    "    times = [] \n",
    "    for alpha in tqdm(range(1,29,intervalo_alpha)):\n",
    "        \n",
    "        setup_time_start_time = time.time()\n",
    "        pca = metnum.PCA(alpha)\n",
    "        X = pca.transform(X_original)\n",
    "        limit = int(0.8 * X.shape[0]) \n",
    "        X_train = X[:limit]\n",
    "        X_val = X[limit:]\n",
    "        y_train = y[:limit]\n",
    "        y_val = y[limit:]\n",
    "\n",
    "        \n",
    "        # Hago el fit generico que guarda los datos \n",
    "\n",
    "        setup_time_end_time = time.time()\n",
    "        setup_time = setup_time_end_time-setup_time_start_time\n",
    "        \n",
    "        for k in tqdm(valores_k):\n",
    "\n",
    "            # Correr knn \n",
    "            clf = metnum.KNNClassifier(k)\n",
    "  \n",
    "            knn_start_time = time.time()\n",
    "            clf.fit(X_train, y_train,'matrix'+str(k)+str(alpha)+'.txt')\n",
    "            y_pred = clf.predict(X_val)\n",
    "            print(accuracy_score(y_val, y_pred))\n",
    "            knn_end_time = time.time()\n",
    "            knn_time = knn_end_time-knn_start_time\n",
    "            # Calcular metricas de interes\n",
    "            labels= [0,1,2,3,4,5,6,7,8,9]\n",
    "            precision = precision_score(y_val, y_pred,labels=labels, average=None)\n",
    "            accuracy =  accuracy_score(y_val, y_pred)\n",
    "            recall   =  recall_score(y_val,y_pred,labels=labels, average=None)\n",
    "            f1 = f1_score(y_val,y_pred,labels=labels, average=None)\n",
    "\n",
    "            # Escribir los resultados\n",
    "            accuracy_of_all_k.append([alpha, k ,accuracy])\n",
    "            times.append(setup_time+knn_time)\n",
    "\n",
    "                # Agregar una fila al dataframe de precision\n",
    "            digit = 0 \n",
    "            precision_dict={}\n",
    "            for i in range(0,10,1):\n",
    "                precision_dict[digit]=precision[i]\n",
    "                digit += 1 \n",
    "            precision_dict['k']=k\n",
    "            precision_dict['alpha']=alpha\n",
    "            precision_df = precision_df.append(precision_dict,ignore_index=True)\n",
    "\n",
    "                 # Agregar una fila al dataframe de recall\n",
    "            digit = 0 \n",
    "            recall_dict={}\n",
    "            for i in range(0,10,1):\n",
    "                recall_dict[digit]=recall[i]\n",
    "                digit += 1 \n",
    "            recall_dict['k']=k\n",
    "            recall_dict['alpha']=alpha\n",
    "            recall_df = recall_df.append(recall_dict,ignore_index=True)\n",
    "            \n",
    "                    \n",
    "            # Agregar una fila al dataframe de f1\n",
    "            \n",
    "            digit = 0 \n",
    "            f1_dict={}\n",
    "            for i in range(0,10,1):\n",
    "                f1_dict[digit]=f1[i]\n",
    "                digit += 1 \n",
    "            f1_dict['k']=k\n",
    "            f1_dict['alpha']=alpha\n",
    "            f1_df = f1_df.append(f1_dict,ignore_index=True)\n",
    "\n",
    "\n",
    "        # Escribo los resultados a un archivo para no tener que correr devuelta los resultados.\n",
    "        precision_df.to_csv('knn_pca_precision_re_do.csv', index=False) \n",
    "        recall_df.to_csv('knn_pca_recall.csv_re_do', index=False)   \n",
    "\n",
    "        with open('knn_pca_acuracy_re_do.csv', 'w', newline='') as myfile:\n",
    "            wr = csv.writer(myfile, quoting=csv.QUOTE_ALL)\n",
    "            wr.writerow(accuracy_of_all_k)\n",
    "\n",
    "        with open('knn_pca_time_re_do.csv', 'w', newline='') as myfile:\n",
    "            wr = csv.writer(myfile, quoting=csv.QUOTE_ALL)\n",
    "            wr.writerow(times)\n",
    "\n",
    "        with open('knn_pca_predicciones.csv', 'w', newline='') as myfile:\n",
    "            wr = csv.writer(myfile, quoting=csv.QUOTE_ALL)\n",
    "            wr.writerow(y_pred)\n",
    "\n",
    " \n",
    "\n",
    "    "
   ]
  },
  {
   "cell_type": "code",
   "execution_count": null,
   "metadata": {},
   "outputs": [
    {
     "name": "stderr",
     "output_type": "stream",
     "text": [
      "  0%|          | 0/10 [00:00<?, ?it/s]\n",
      "  0%|          | 0/14 [00:00<?, ?it/s]\u001b[A\n",
      "  7%|▋         | 1/14 [00:40<08:43, 40.29s/it]\u001b[A"
     ]
    },
    {
     "name": "stdout",
     "output_type": "stream",
     "text": [
      "0.2392857142857143\n"
     ]
    },
    {
     "name": "stderr",
     "output_type": "stream",
     "text": [
      "\n",
      " 14%|█▍        | 2/14 [01:20<08:00, 40.06s/it]\u001b[A"
     ]
    }
   ],
   "source": [
    "correr_Knn_pca(0.8,3)"
   ]
  }
 ],
 "metadata": {
  "kernelspec": {
   "display_name": "tp2",
   "language": "python",
   "name": "tp2"
  },
  "language_info": {
   "codemirror_mode": {
    "name": "ipython",
    "version": 3
   },
   "file_extension": ".py",
   "mimetype": "text/x-python",
   "name": "python",
   "nbconvert_exporter": "python",
   "pygments_lexer": "ipython3",
   "version": "3.6.5"
  }
 },
 "nbformat": 4,
 "nbformat_minor": 2
}
